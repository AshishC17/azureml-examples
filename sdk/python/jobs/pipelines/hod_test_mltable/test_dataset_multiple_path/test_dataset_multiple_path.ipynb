{
 "cells": [
  {
   "cell_type": "markdown",
   "metadata": {},
   "source": [
    "Copyright (c) Microsoft Corporation. All rights reserved.\n",
    "\n",
    "Licensed under the MIT License."
   ]
  },
  {
   "cell_type": "markdown",
   "metadata": {},
   "source": [
    "# Develop your own Azure Machine Learning component using dsl component decorator\n",
    "\n",
    "In this notebook, you learn how to create a simple machine learning component using dsl component decorator and use it in an ML pipeline.\n",
    "\n",
    "* Create a component with dsl component decorator\n",
    "* Run local test(optional), to make sure the code works correctly\n",
    "* Consume the component in dsl.pipeline\n",
    "* Register the component to your Machine learning workspace"
   ]
  },
  {
   "cell_type": "markdown",
   "metadata": {},
   "source": [
    "## Prerequisites\n",
    "* Install azure cli with azure-cli-ml extension following the [instructions here](setup-environment.ipynb).\n"
   ]
  },
  {
   "cell_type": "markdown",
   "metadata": {},
   "source": [
    "## Initialize workspace\n",
    "\n",
    "Initialize a workspace object from persisted configuration file."
   ]
  },
  {
   "cell_type": "code",
   "execution_count": null,
   "metadata": {
    "tags": []
   },
   "outputs": [],
   "source": [
    "from azureml.core import Workspace\n",
    "\n",
    "config_path = \"../../../../../.azureml/config.json\"\n",
    "try:\n",
    "    ws = Workspace.from_config(path=config_path)\n",
    "except Exception as ex:\n",
    "    raise\n",
    "    # # NOTE: Update following workspace information if not correctly configure before\n",
    "    # subscription_id = \"<your subscription ID>\"\n",
    "    # resource_group = \"<your resource group>\"\n",
    "    # workspace_name = \"<your workspace name>\"\n",
    "\n",
    "    # if subscription_id.startswith(\"<\"):\n",
    "    #     raise ex\n",
    "    # else:  # write and reload from config file\n",
    "    #     config = {\n",
    "    #         \"Scope\": \"/subscriptions/\"\n",
    "    #         + subscription_id\n",
    "    #         + \"/resourceGroups/\"\n",
    "    #         + resource_group\n",
    "    #         + \"/providers/Microsoft.MachineLearningServices/workspaces/\"\n",
    "    #         + workspace_name\n",
    "    #         + \"/projects/samples\"\n",
    "    #     }\n",
    "    #     import json\n",
    "    #     import os\n",
    "\n",
    "    #     os.makedirs(os.path.dirname(config_path), exist_ok=True)\n",
    "    #     with open(config_path, \"w\") as fo:\n",
    "    #         fo.write(json.dumps(config))\n",
    "    #     ws = Workspace.from_config(path=config_path)"
   ]
  },
  {
   "cell_type": "markdown",
   "metadata": {},
   "source": [
    "## Prepare Datasets"
   ]
  },
  {
   "cell_type": "code",
   "execution_count": null,
   "metadata": {},
   "outputs": [],
   "source": [
    "# from azureml.core import Dataset, Datastore\n",
    "# from azureml.data.datapath import DataPath\n",
    "\n",
    "# datastore = Datastore.get(ws, 'workspaceblobstore')\n",
    "\n",
    "\n",
    "# # get dataset\n",
    "# dataset_mltable_data = \"dataset_mltable_data\"\n",
    "# dataset_mltable_src = \"dataset_mltable_src\"\n",
    "\n",
    "\n",
    "# if dataset_mltable_data not in ws.datasets:\n",
    "#     print('Registering dataset_mltable_data...')\n",
    "#     # train_data = Dataset.File.from_files(\n",
    "#     #     path=\"../test_create_and_link/sdk/data/\"\n",
    "#     # )\n",
    "    \n",
    "#     data = Dataset.File.upload_directory(src_dir='../test_create_and_link/sdk/data/',\n",
    "#            target=DataPath(datastore,  'hod/mltable_test_data/'),\n",
    "#            show_progress=True)\n",
    "#     data.register(\n",
    "#         workspace=ws,\n",
    "#         name=dataset_mltable_data,\n",
    "#         description='mltable test data',\n",
    "#     )\n",
    "#     print('Registered')\n",
    "\n",
    "# if dataset_mltable_src not in ws.datasets:\n",
    "#     print('Registering dataset_mltable_src...')\n",
    "#     # test_data = Dataset.File.from_files(\n",
    "#     #     path=\"../test_create_and_link/convert2ss/\"\n",
    "#     # )\n",
    "#     data = Dataset.File.upload_directory(src_dir=\"../test_create_and_link/convert2ss/\",\n",
    "#            target=DataPath(datastore,  'hod/mltable_test_src/'),\n",
    "#            show_progress=True)\n",
    "#     data.register(\n",
    "#         workspace=ws,\n",
    "#         name=dataset_mltable_src,\n",
    "#         description='mltable test src',\n",
    "#     )\n",
    "#     print('Registered')\n",
    "\n",
    "# mltable_data = Dataset.get_by_name(ws, name=dataset_mltable_data)\n",
    "# mltable_src = Dataset.get_by_name(ws, name=dataset_mltable_src)"
   ]
  },
  {
   "cell_type": "markdown",
   "metadata": {},
   "source": [
    "## Create components using dsl component decorator\n",
    "\n",
    "We defined three sample component using dsl.command_component in [components/dsl_component/dsl_components.py](components/dsl_component/dsl_components.py)."
   ]
  },
  {
   "cell_type": "code",
   "execution_count": null,
   "metadata": {
    "tags": []
   },
   "outputs": [],
   "source": [
    "with open(\"components/dsl_components.py\") as fin:\n",
    "    print(fin.read())"
   ]
  },
  {
   "cell_type": "code",
   "execution_count": null,
   "metadata": {},
   "outputs": [],
   "source": [
    "from components.dsl_components import (\n",
    "    create_multi_path_dataset,\n",
    "    consume_dataset,\n",
    ")\n",
    "\n",
    "# see the function help\n",
    "# help(create_multi_path_dataset)"
   ]
  },
  {
   "cell_type": "markdown",
   "metadata": {},
   "source": [
    "## Run the component in local (optional)\n",
    "\n",
    "After we developed the component, to ensure it works correctly, we could load this component and run the component in local."
   ]
  },
  {
   "cell_type": "code",
   "execution_count": null,
   "metadata": {},
   "outputs": [],
   "source": [
    "# component.run(experiment_name='local-run-with-train-component', mode='host', track_run_history=True, workspace=ws)"
   ]
  },
  {
   "cell_type": "code",
   "execution_count": null,
   "metadata": {},
   "outputs": [],
   "source": [
    "from azureml.core import Dataset, Datastore, Run\n",
    "\n",
    "datastore = Datastore.get(ws, \"workspaceblobstore\")\n",
    "relative_path_1 = \"/hod/mltable_test_data/\"\n",
    "relative_path_2 = \"/hod/mltable_test_src/\"\n",
    "relative_path = f'\"{relative_path_1}\", \"{relative_path_2}\"'\n",
    "\n",
    "# Create dataset object\n",
    "file_dataset = Dataset.File.from_files(path=[(datastore, relative_path_1), (datastore, relative_path_2)], validate=True)\n",
    "file_dataset._ensure_saved_internal(ws)"
   ]
  },
  {
   "cell_type": "markdown",
   "metadata": {},
   "source": [
    "## Consume the component in dsl pipeline\n",
    "\n",
    "The example below demonstrates how to consume dsl component in dsl pipeline."
   ]
  },
  {
   "cell_type": "code",
   "execution_count": null,
   "metadata": {},
   "outputs": [],
   "source": [
    "from azure.ml.component import dsl\n",
    "\n",
    "cluster_name = \"cpu-cluster\"\n",
    "# define a pipeline with dsl component\n",
    "@dsl.pipeline(\n",
    "    name='test_multi_path_dataset_pipeline',\n",
    "    default_compute_target=cluster_name,\n",
    ")\n",
    "def test_multi_path_dataset_pipeline():\n",
    "    # node_0 = create_multi_path_dataset()\n",
    "    # node_1 = consume_dataset(data_path=node_0.outputs.data_output)\n",
    "    node_1 = consume_dataset(data_path=file_dataset)"
   ]
  },
  {
   "cell_type": "markdown",
   "metadata": {},
   "source": [
    "After defined the pipeline, we could run the component in local."
   ]
  },
  {
   "cell_type": "code",
   "execution_count": null,
   "metadata": {
    "tags": []
   },
   "outputs": [],
   "source": [
    "pipeline = test_multi_path_dataset_pipeline()"
   ]
  },
  {
   "cell_type": "markdown",
   "metadata": {
    "tags": []
   },
   "source": [
    "Or validate and submit it to workspace."
   ]
  },
  {
   "cell_type": "code",
   "execution_count": null,
   "metadata": {},
   "outputs": [],
   "source": [
    "# validate pipeline\n",
    "pipeline.validate(workspace=ws)"
   ]
  },
  {
   "cell_type": "code",
   "execution_count": null,
   "metadata": {
    "tags": []
   },
   "outputs": [],
   "source": [
    "# submit pipeline\n",
    "run = pipeline.submit(experiment_name='test_multi_path_dataset_pipeline', workspace=ws)\n",
    "run"
   ]
  },
  {
   "cell_type": "code",
   "execution_count": null,
   "metadata": {},
   "outputs": [],
   "source": [
    "run.wait_for_completion()"
   ]
  },
  {
   "cell_type": "markdown",
   "metadata": {},
   "source": [
    "## Create the component\n",
    "\n",
    "The component can be created in workspace with the following scripts."
   ]
  },
  {
   "cell_type": "code",
   "execution_count": null,
   "metadata": {},
   "outputs": [],
   "source": [
    "from azure.ml.component import Component\n",
    "\n",
    "train_component_name = \"dsl_train_component\"\n",
    "component_version = \"0.0.1\"\n",
    "# Load or register the dsl component\n",
    "try:\n",
    "    registered_train_component_func = Component.load(\n",
    "        ws, name=train_component_name, version=component_version\n",
    "    )\n",
    "except Exception:\n",
    "    registered_train_component_func = Component.create(\n",
    "        train_component_func,\n",
    "        version=component_version,\n",
    "        set_as_default=True,\n",
    "        workspace=ws,\n",
    "    )"
   ]
  },
  {
   "cell_type": "code",
   "execution_count": null,
   "metadata": {},
   "outputs": [],
   "source": [
    "# Check whether the component is successfully registered\n",
    "component_func = Component.load(ws, name=train_component_name)\n",
    "help(component_func)"
   ]
  }
 ],
 "metadata": {
  "kernelspec": {
   "display_name": "bb",
   "language": "python",
   "name": "python3"
  },
  "language_info": {
   "codemirror_mode": {
    "name": "ipython",
    "version": 3
   },
   "file_extension": ".py",
   "mimetype": "text/x-python",
   "name": "python",
   "nbconvert_exporter": "python",
   "pygments_lexer": "ipython3",
   "version": "3.8.16"
  }
 },
 "nbformat": 4,
 "nbformat_minor": 2
}
