{
 "cells": [
  {
   "cell_type": "markdown",
   "id": "455cdf9f",
   "metadata": {},
   "source": [
    "### <font color=\"green\">Model Evaluation - Metrics Package - Score</font>\n",
    "\n",
    "<hr>"
   ]
  },
  {
   "cell_type": "markdown",
   "id": "4bd1d3d9",
   "metadata": {},
   "source": [
    "### <font color=\"parrot-green\">Running score for a scikit logistic model</font>"
   ]
  },
  {
   "cell_type": "code",
   "execution_count": 1,
   "id": "2e4a397a",
   "metadata": {},
   "outputs": [
    {
     "name": "stderr",
     "output_type": "stream",
     "text": [
      "C:\\Users\\caravapalli\\Miniconda3\\envs\\dev\\lib\\site-packages\\sklearn\\linear_model\\_logistic.py:940: ConvergenceWarning: lbfgs failed to converge (status=1):\n",
      "STOP: TOTAL NO. of ITERATIONS REACHED LIMIT.\n",
      "\n",
      "Increase the number of iterations (max_iter) or scale the data as shown in:\n",
      "    https://scikit-learn.org/stable/modules/preprocessing.html\n",
      "Please also refer to the documentation for alternative solver options:\n",
      "    https://scikit-learn.org/stable/modules/linear_model.html#logistic-regression\n",
      "  extra_warning_msg=_LOGISTIC_SOLVER_CONVERGENCE_MSG)\n",
      "Metrics skipped due to missing y_pred_proba:\n",
      " ['average_precision_score_macro', 'AUC_binary', 'average_precision_score_binary', 'log_loss', 'AUC_micro', 'AUC_macro', 'average_precision_score_micro', 'average_precision_score_weighted', 'accuracy_table', 'norm_macro_recall', 'AUC_weighted']\n"
     ]
    },
    {
     "name": "stdout",
     "output_type": "stream",
     "text": [
      "{'artifacts': {'confusion_matrix': {'data': {'class_labels': ['0', '1', '2'],\n",
      "                                             'matrix': [[50, 0, 0],\n",
      "                                                        [0, 47, 3],\n",
      "                                                        [0, 1, 49]]},\n",
      "                                    'schema_type': 'confusion_matrix',\n",
      "                                    'schema_version': '1.0.0'}},\n",
      " 'metrics': {'accuracy': 0.9733333333333334,\n",
      "             'balanced_accuracy': 0.9733333333333333,\n",
      "             'f1_score_binary': nan,\n",
      "             'f1_score_macro': 0.9733226623982927,\n",
      "             'f1_score_micro': 0.9733333333333334,\n",
      "             'f1_score_weighted': 0.9733226623982927,\n",
      "             'matthews_correlation': 0.9602561024455323,\n",
      "             'precision_score_binary': nan,\n",
      "             'precision_score_macro': 0.9738247863247862,\n",
      "             'precision_score_micro': 0.9733333333333334,\n",
      "             'precision_score_weighted': 0.9738247863247864,\n",
      "             'recall_score_binary': nan,\n",
      "             'recall_score_macro': 0.9733333333333333,\n",
      "             'recall_score_micro': 0.9733333333333334,\n",
      "             'recall_score_weighted': 0.9733333333333334,\n",
      "             'weighted_accuracy': 0.9733333333333333}}\n"
     ]
    }
   ],
   "source": [
    "from azureml.metrics import score, constants\n",
    "import numpy as np\n",
    "from pprint import pprint\n",
    "from sklearn.datasets import load_iris\n",
    "from sklearn.linear_model import LogisticRegression\n",
    "    \n",
    "X, y = load_iris(return_X_y=True)\n",
    "clf = LogisticRegression(random_state=0).fit(X, y)\n",
    "\n",
    "metrics = score(task_type=constants.Tasks.CLASSIFICATION,\n",
    "                model=clf,\n",
    "                X_test=X,\n",
    "                y_test=y)\n",
    "\n",
    "pprint(metrics)"
   ]
  },
  {
   "cell_type": "markdown",
   "id": "b2907df9",
   "metadata": {},
   "source": [
    "### <font color=\"parrot-green\">Running score for a scikit logistic model with kwargs</font>"
   ]
  },
  {
   "cell_type": "code",
   "execution_count": 2,
   "id": "36ea807f",
   "metadata": {},
   "outputs": [
    {
     "name": "stdout",
     "output_type": "stream",
     "text": [
      "{'artifacts': {'confusion_matrix': {'data': {'class_labels': ['0', '1', '2'],\n",
      "                                             'matrix': [[50, 0, 0],\n",
      "                                                        [0, 47, 3],\n",
      "                                                        [0, 1, 49]]},\n",
      "                                    'schema_type': 'confusion_matrix',\n",
      "                                    'schema_version': '1.0.0'}},\n",
      " 'metrics': {'accuracy': 0.9733333333333334,\n",
      "             'f1_score_macro': 0.9733226623982927}}\n"
     ]
    },
    {
     "name": "stderr",
     "output_type": "stream",
     "text": [
      "C:\\Users\\caravapalli\\Miniconda3\\envs\\dev\\lib\\site-packages\\sklearn\\linear_model\\_logistic.py:940: ConvergenceWarning: lbfgs failed to converge (status=1):\n",
      "STOP: TOTAL NO. of ITERATIONS REACHED LIMIT.\n",
      "\n",
      "Increase the number of iterations (max_iter) or scale the data as shown in:\n",
      "    https://scikit-learn.org/stable/modules/preprocessing.html\n",
      "Please also refer to the documentation for alternative solver options:\n",
      "    https://scikit-learn.org/stable/modules/linear_model.html#logistic-regression\n",
      "  extra_warning_msg=_LOGISTIC_SOLVER_CONVERGENCE_MSG)\n"
     ]
    }
   ],
   "source": [
    "from azureml.metrics import score, constants\n",
    "import numpy as np\n",
    "from pprint import pprint\n",
    "from sklearn.datasets import load_iris\n",
    "from sklearn.linear_model import LogisticRegression\n",
    "    \n",
    "X, y = load_iris(return_X_y=True)\n",
    "clf = LogisticRegression(random_state=0).fit(X, y)\n",
    "\n",
    "metrics = score(task_type=constants.Tasks.CLASSIFICATION,\n",
    "                model=clf,\n",
    "                metrics=[\"accuracy\", \"confusion_matrix\", \"f1_score_macro\"],\n",
    "                X_test=X,\n",
    "                y_test=y)\n",
    "\n",
    "pprint(metrics)"
   ]
  },
  {
   "cell_type": "markdown",
   "id": "91567d28",
   "metadata": {},
   "source": [
    "### <font color=\"parrot-green\">Running score for a scikit pipeline</font>"
   ]
  },
  {
   "cell_type": "code",
   "execution_count": 3,
   "id": "06d24552",
   "metadata": {},
   "outputs": [
    {
     "name": "stderr",
     "output_type": "stream",
     "text": [
      "Metrics skipped due to missing y_pred_proba:\n",
      " ['average_precision_score_macro', 'AUC_binary', 'average_precision_score_binary', 'log_loss', 'AUC_micro', 'AUC_macro', 'average_precision_score_micro', 'average_precision_score_weighted', 'accuracy_table', 'norm_macro_recall', 'AUC_weighted']\n"
     ]
    },
    {
     "name": "stdout",
     "output_type": "stream",
     "text": [
      "{'artifacts': {'confusion_matrix': {'data': {'class_labels': ['0', '1', '2'],\n",
      "                                             'matrix': [[50, 0, 0],\n",
      "                                                        [0, 47, 3],\n",
      "                                                        [0, 1, 49]]},\n",
      "                                    'schema_type': 'confusion_matrix',\n",
      "                                    'schema_version': '1.0.0'}},\n",
      " 'metrics': {'accuracy': 0.9733333333333334,\n",
      "             'balanced_accuracy': 0.9733333333333333,\n",
      "             'f1_score_binary': nan,\n",
      "             'f1_score_macro': 0.9733226623982927,\n",
      "             'f1_score_micro': 0.9733333333333334,\n",
      "             'f1_score_weighted': 0.9733226623982927,\n",
      "             'matthews_correlation': 0.9602561024455323,\n",
      "             'precision_score_binary': nan,\n",
      "             'precision_score_macro': 0.9738247863247862,\n",
      "             'precision_score_micro': 0.9733333333333334,\n",
      "             'precision_score_weighted': 0.9738247863247864,\n",
      "             'recall_score_binary': nan,\n",
      "             'recall_score_macro': 0.9733333333333333,\n",
      "             'recall_score_micro': 0.9733333333333334,\n",
      "             'recall_score_weighted': 0.9733333333333334,\n",
      "             'weighted_accuracy': 0.9733333333333333}}\n"
     ]
    }
   ],
   "source": [
    "from sklearn.datasets import make_classification\n",
    "from sklearn.linear_model import LogisticRegression\n",
    "from sklearn.model_selection import train_test_split\n",
    "from sklearn.pipeline import make_pipeline\n",
    "from sklearn.preprocessing import StandardScaler\n",
    "\n",
    "X, y = load_iris(return_X_y=True)\n",
    "X_train, X_test, y_train, y_test = train_test_split(X, y, random_state=42)\n",
    "pipe = make_pipeline(StandardScaler(), LogisticRegression())\n",
    "pipe.fit(X_train, y_train)  # apply scaling on training data\n",
    "\n",
    "metrics = score(task_type=constants.Tasks.CLASSIFICATION,\n",
    "                model=pipe,\n",
    "                X_test=X,\n",
    "                y_test=y)\n",
    "pprint(metrics)"
   ]
  },
  {
   "cell_type": "code",
   "execution_count": 4,
   "id": "02eb54f7",
   "metadata": {},
   "outputs": [
    {
     "name": "stdout",
     "output_type": "stream",
     "text": [
      "{'artifacts': {'confusion_matrix': {'data': {'class_labels': ['0', '1', '2'],\n",
      "                                             'matrix': [[0, 0, 0],\n",
      "                                                        [0, 21, 100],\n",
      "                                                        [10, 0, 0]]},\n",
      "                                    'schema_type': 'confusion_matrix',\n",
      "                                    'schema_version': '1.0.0'}},\n",
      " 'metrics': {'accuracy': 0.16030534351145037,\n",
      "             'precision_score_weighted': 0.9236641221374046,\n",
      "             'weighted_accuracy': 0.6}}\n"
     ]
    }
   ],
   "source": [
    "from sklearn.datasets import make_classification\n",
    "from sklearn.linear_model import LogisticRegression\n",
    "from sklearn.model_selection import train_test_split\n",
    "from sklearn.pipeline import make_pipeline\n",
    "from sklearn.preprocessing import StandardScaler\n",
    "\n",
    "X, y = load_iris(return_X_y=True)\n",
    "X_train, X_test, y_train, y_test = train_test_split(X, y, random_state=42)\n",
    "pipe = make_pipeline(StandardScaler(), LogisticRegression())\n",
    "pipe.fit(X_train, y_train)  # apply scaling on training data\n",
    "\n",
    "metrics = score(task_type=constants.Tasks.CLASSIFICATION,\n",
    "                model=pipe,\n",
    "                metrics=[\"accuracy\", \"precision_score_weighted\", \n",
    "                         \"weighted_accuracy\", \"confusion_matrix\"],\n",
    "                sample_weight=[1, 10, 100, 20],\n",
    "                X_test=X_test[0:4],\n",
    "                y_test=y_test[6:10])\n",
    "\n",
    "pprint(metrics)"
   ]
  },
  {
   "cell_type": "markdown",
   "id": "857c8b3e",
   "metadata": {},
   "source": [
    "### <font color=\"parrot-green\">Running score for a pickled model</font>"
   ]
  },
  {
   "cell_type": "code",
   "execution_count": 12,
   "id": "1dd3087f",
   "metadata": {},
   "outputs": [],
   "source": [
    "import pickle\n",
    "import pandas as pd\n",
    "\n",
    "# BYOM (Bring your own model)\n",
    "classification_model = pickle.load(open(\"../models/automl_classification_model.pkl\", \"rb\"))\n",
    "\n",
    "# BYOD (Bring your own data)\n",
    "X_test = pd.read_csv(\"../models/X_test_file.csv\")\n",
    "y_test = pd.read_csv(\"../models/y_test_file.csv\")"
   ]
  },
  {
   "cell_type": "code",
   "execution_count": 13,
   "id": "b999fcda",
   "metadata": {},
   "outputs": [
    {
     "name": "stderr",
     "output_type": "stream",
     "text": [
      "2022-09-30:19:49:03,245 INFO     [_validation.py:188] Classification metrics debug: {'y_test': (56946,), 'y_pred': (56946,), 'y_pred_probs': None, 'unique_y_test': (2,), 'class_labels': (2,), 'train_labels': (2,), 'n_missing_train': 0, 'n_missing_valid': 0, 'sample_weight': None}\n",
      "2022-09-30:19:49:03,256 INFO     [_scoring_utilities.py:521] No positive_label provided but detected a binary classification task\n",
      "2022-09-30:19:49:03,787 INFO     [_scoring.py:115] Metrics computed:\n",
      " ['balanced_accuracy', 'recall_score_macro', 'precision_score_micro', 'f1_score_weighted', 'f1_score_macro', 'matthews_correlation', 'precision_score_binary', 'confusion_matrix', 'precision_score_macro', 'precision_score_weighted', 'recall_score_weighted', 'accuracy', 'recall_score_micro', 'weighted_accuracy', 'f1_score_micro', 'f1_score_binary', 'recall_score_binary']\n",
      "\n",
      "2022-09-30:19:49:03,787 WARNING  [_scoring.py:118] Metrics skipped due to missing y_pred_proba:\n",
      " ['average_precision_score_macro', 'AUC_binary', 'average_precision_score_binary', 'log_loss', 'AUC_micro', 'AUC_macro', 'average_precision_score_micro', 'average_precision_score_weighted', 'accuracy_table', 'norm_macro_recall', 'AUC_weighted']\n"
     ]
    },
    {
     "name": "stdout",
     "output_type": "stream",
     "text": [
      "{'artifacts': {'confusion_matrix': {'data': {'class_labels': ['False', 'True'],\n",
      "                                             'matrix': [[56808, 42], [16, 80]]},\n",
      "                                    'schema_type': 'confusion_matrix',\n",
      "                                    'schema_version': '1.0.0'}},\n",
      " 'metrics': {'accuracy': 0.9989814912373125,\n",
      "             'balanced_accuracy': 0.916297273526825,\n",
      "             'f1_score_binary': 0.7339449541284403,\n",
      "             'f1_score_macro': 0.8667173615584756,\n",
      "             'f1_score_micro': 0.9989814912373125,\n",
      "             'f1_score_weighted': 0.9990421115195655,\n",
      "             'matthews_correlation': 0.7387348663721539,\n",
      "             'precision_score_binary': 0.6557377049180327,\n",
      "             'precision_score_macro': 0.8277280668754601,\n",
      "             'precision_score_micro': 0.9989814912373125,\n",
      "             'precision_score_weighted': 0.9991385435117793,\n",
      "             'recall_score_binary': 0.8333333333333334,\n",
      "             'recall_score_macro': 0.916297273526825,\n",
      "             'recall_score_micro': 0.9989814912373125,\n",
      "             'recall_score_weighted': 0.9989814912373125,\n",
      "             'weighted_accuracy': 0.9992607405694333}}\n"
     ]
    }
   ],
   "source": [
    "from azureml.metrics import score, constants\n",
    "from pprint import pprint\n",
    "\n",
    "metrics = score(task_type=constants.Tasks.CLASSIFICATION,\n",
    "                model=classification_model,\n",
    "                X_test=X_test,\n",
    "                y_test=y_test)\n",
    "pprint(metrics)"
   ]
  },
  {
   "cell_type": "markdown",
   "id": "12706c01",
   "metadata": {},
   "source": [
    "### <font color=\"parrot-green\">Running score on a AutoML model</font>"
   ]
  },
  {
   "cell_type": "code",
   "execution_count": 7,
   "id": "3e926e35",
   "metadata": {},
   "outputs": [
    {
     "name": "stderr",
     "output_type": "stream",
     "text": [
      "2022-09-30:19:46:54,867 INFO     [workspace.py:291] Found the config file in: C:\\microsoft_projects\\azureml-examples\\azureml-metrics-test\\config.json\n",
      "2022-09-30:19:46:58,918 WARNING  [authentication.py:752] Warning: Falling back to use azure cli login credentials.\n",
      "If you run your code in unattended mode, i.e., where you can't give a user input, then we recommend to use ServicePrincipalAuthentication or MsiAuthentication.\n",
      "Please refer to aka.ms/aml-notebook-auth for different authentication mechanisms in azureml-sdk.\n",
      "2022-09-30:19:47:01,246 INFO     [clientbase.py:192] Created a worker pool for first use\n"
     ]
    },
    {
     "data": {
      "text/html": [
       "<div>\n",
       "<style scoped>\n",
       "    .dataframe tbody tr th:only-of-type {\n",
       "        vertical-align: middle;\n",
       "    }\n",
       "\n",
       "    .dataframe tbody tr th {\n",
       "        vertical-align: top;\n",
       "    }\n",
       "\n",
       "    .dataframe thead th {\n",
       "        text-align: right;\n",
       "    }\n",
       "</style>\n",
       "<table border=\"1\" class=\"dataframe\">\n",
       "  <thead>\n",
       "    <tr style=\"text-align: right;\">\n",
       "      <th></th>\n",
       "      <th></th>\n",
       "    </tr>\n",
       "  </thead>\n",
       "  <tbody>\n",
       "    <tr>\n",
       "      <th>Subscription ID</th>\n",
       "      <td>381b38e9-9840-4719-a5a0-61d9585e1e91</td>\n",
       "    </tr>\n",
       "    <tr>\n",
       "      <th>Workspace</th>\n",
       "      <td>caravapalli-ws-new</td>\n",
       "    </tr>\n",
       "    <tr>\n",
       "      <th>Resource Group</th>\n",
       "      <td>caravapalli-rs</td>\n",
       "    </tr>\n",
       "    <tr>\n",
       "      <th>Location</th>\n",
       "      <td>eastus2</td>\n",
       "    </tr>\n",
       "    <tr>\n",
       "      <th>Experiment Name</th>\n",
       "      <td>automl-classification-ccard-remote</td>\n",
       "    </tr>\n",
       "    <tr>\n",
       "      <th>SDK Version</th>\n",
       "      <td>1.45.0</td>\n",
       "    </tr>\n",
       "  </tbody>\n",
       "</table>\n",
       "</div>"
      ],
      "text/plain": [
       "                                                     \n",
       "Subscription ID  381b38e9-9840-4719-a5a0-61d9585e1e91\n",
       "Workspace                          caravapalli-ws-new\n",
       "Resource Group                         caravapalli-rs\n",
       "Location                                      eastus2\n",
       "Experiment Name    automl-classification-ccard-remote\n",
       "SDK Version                                    1.45.0"
      ]
     },
     "execution_count": 7,
     "metadata": {},
     "output_type": "execute_result"
    }
   ],
   "source": [
    "import azureml.core\n",
    "from azureml.core.experiment import Experiment\n",
    "from azureml.core.workspace import Workspace\n",
    "\n",
    "ws = Workspace.from_config()\n",
    "\n",
    "# choose a name for experiment\n",
    "experiment_name = \"automl-classification-ccard-remote\"\n",
    "\n",
    "experiment = Experiment(ws, experiment_name)\n",
    "\n",
    "output = {}\n",
    "output[\"Subscription ID\"] = ws.subscription_id\n",
    "output[\"Workspace\"] = ws.name\n",
    "output[\"Resource Group\"] = ws.resource_group\n",
    "output[\"Location\"] = ws.location\n",
    "output[\"Experiment Name\"] = experiment.name\n",
    "output[\"SDK Version\"] = azureml.core.VERSION\n",
    "pd.set_option(\"display.max_colwidth\", None)\n",
    "outputDf = pd.DataFrame(data=output, index=[\"\"])\n",
    "outputDf.T"
   ]
  },
  {
   "cell_type": "code",
   "execution_count": 8,
   "id": "5c86f121",
   "metadata": {},
   "outputs": [],
   "source": [
    "from azureml.train.automl.run import AutoMLRun\n",
    "\n",
    "remote_run = AutoMLRun(experiment=experiment, run_id=\"<replace-with-AutoML-runid>\")\n",
    "\n",
    "best_run, best_model = remote_run.get_output()"
   ]
  },
  {
   "cell_type": "code",
   "execution_count": 9,
   "id": "7f34fcb2",
   "metadata": {},
   "outputs": [
    {
     "name": "stderr",
     "output_type": "stream",
     "text": [
      "2022-09-30:19:47:51,770 INFO     [_validation.py:188] Classification metrics debug: {'y_test': (56946,), 'y_pred': (56946,), 'y_pred_probs': None, 'unique_y_test': (2,), 'class_labels': (2,), 'train_labels': (2,), 'n_missing_train': 0, 'n_missing_valid': 0, 'sample_weight': None}\n",
      "2022-09-30:19:47:51,781 INFO     [_scoring_utilities.py:521] No positive_label provided but detected a binary classification task\n",
      "2022-09-30:19:47:52,458 INFO     [_scoring.py:115] Metrics computed:\n",
      " ['balanced_accuracy', 'recall_score_macro', 'precision_score_micro', 'f1_score_weighted', 'f1_score_macro', 'matthews_correlation', 'precision_score_binary', 'confusion_matrix', 'precision_score_macro', 'precision_score_weighted', 'recall_score_weighted', 'accuracy', 'recall_score_micro', 'weighted_accuracy', 'f1_score_micro', 'f1_score_binary', 'recall_score_binary']\n",
      "\n",
      "2022-09-30:19:47:52,458 WARNING  [_scoring.py:118] Metrics skipped due to missing y_pred_proba:\n",
      " ['average_precision_score_macro', 'AUC_binary', 'average_precision_score_binary', 'log_loss', 'AUC_micro', 'AUC_macro', 'average_precision_score_micro', 'average_precision_score_weighted', 'accuracy_table', 'norm_macro_recall', 'AUC_weighted']\n"
     ]
    },
    {
     "name": "stdout",
     "output_type": "stream",
     "text": [
      "{'artifacts': {'confusion_matrix': {'data': {'class_labels': ['False', 'True'],\n",
      "                                             'matrix': [[56808, 42], [16, 80]]},\n",
      "                                    'schema_type': 'confusion_matrix',\n",
      "                                    'schema_version': '1.0.0'}},\n",
      " 'metrics': {'accuracy': 0.9989814912373125,\n",
      "             'balanced_accuracy': 0.916297273526825,\n",
      "             'f1_score_binary': 0.7339449541284403,\n",
      "             'f1_score_macro': 0.8667173615584756,\n",
      "             'f1_score_micro': 0.9989814912373125,\n",
      "             'f1_score_weighted': 0.9990421115195655,\n",
      "             'matthews_correlation': 0.7387348663721539,\n",
      "             'precision_score_binary': 0.6557377049180327,\n",
      "             'precision_score_macro': 0.8277280668754601,\n",
      "             'precision_score_micro': 0.9989814912373125,\n",
      "             'precision_score_weighted': 0.9991385435117793,\n",
      "             'recall_score_binary': 0.8333333333333334,\n",
      "             'recall_score_macro': 0.916297273526825,\n",
      "             'recall_score_micro': 0.9989814912373125,\n",
      "             'recall_score_weighted': 0.9989814912373125,\n",
      "             'weighted_accuracy': 0.9992607405694333}}\n"
     ]
    }
   ],
   "source": [
    "from azureml.metrics import score, constants\n",
    "from pprint import pprint\n",
    "\n",
    "X_test = pd.read_csv(\"../models/X_test_file.csv\")\n",
    "y_test = pd.read_csv(\"../models/y_test_file.csv\")\n",
    "\n",
    "score_obj = score(task_type=constants.Tasks.CLASSIFICATION, \n",
    "                  model=best_model, X_test=X_test, y_test=y_test)\n",
    "pprint(score_obj)"
   ]
  },
  {
   "cell_type": "markdown",
   "id": "63bd79f9",
   "metadata": {},
   "source": [
    "### <font color=\"parrot-green\">Running score on a MLFlow model</font>"
   ]
  },
  {
   "cell_type": "code",
   "execution_count": 10,
   "id": "de9ef54b",
   "metadata": {},
   "outputs": [],
   "source": [
    "import mlflow\n",
    "import numpy as np\n",
    "from sklearn.linear_model import LogisticRegression\n",
    "\n",
    "# Ran in different kernel environment and pasted the cells here\n",
    "with mlflow.start_run():\n",
    "    X = np.array([-2, -1, 0, 1, 2, 1]).reshape(-1, 1)\n",
    "    y = np.array([0, 0, 1, 1, 1, 0])\n",
    "    lr = LogisticRegression()\n",
    "    lr.fit(X, y)\n",
    "\n",
    "    model_info = mlflow.sklearn.log_model(sk_model=lr, artifact_path=\"model\")\n",
    "\n",
    "sklearn_pyfunc = mlflow.pyfunc.load_model(model_uri=model_info.model_uri)\n",
    "\n",
    "data = np.array([-4, 1, 0, 10, -2, 1]).reshape(-1, 1)\n",
    "\n",
    "predictions = sklearn_pyfunc.predict(data)"
   ]
  },
  {
   "cell_type": "code",
   "execution_count": 11,
   "id": "d63eb821",
   "metadata": {},
   "outputs": [
    {
     "name": "stderr",
     "output_type": "stream",
     "text": [
      "2022-09-30:19:47:59,676 INFO     [_validation.py:188] Classification metrics debug: {'y_test': (6,), 'y_pred': (6,), 'y_pred_probs': None, 'unique_y_test': (2,), 'class_labels': (2,), 'train_labels': (2,), 'n_missing_train': 0, 'n_missing_valid': 0, 'sample_weight': None}\n",
      "2022-09-30:19:47:59,678 INFO     [_scoring_utilities.py:521] No positive_label provided but detected a binary classification task\n",
      "2022-09-30:19:47:59,702 INFO     [_scoring.py:115] Metrics computed:\n",
      " ['balanced_accuracy', 'recall_score_macro', 'precision_score_micro', 'f1_score_weighted', 'f1_score_macro', 'matthews_correlation', 'precision_score_binary', 'confusion_matrix', 'precision_score_macro', 'precision_score_weighted', 'recall_score_weighted', 'accuracy', 'recall_score_micro', 'weighted_accuracy', 'f1_score_micro', 'f1_score_binary', 'recall_score_binary']\n",
      "\n",
      "2022-09-30:19:47:59,703 WARNING  [_scoring.py:118] Metrics skipped due to missing y_pred_proba:\n",
      " ['average_precision_score_macro', 'AUC_binary', 'average_precision_score_binary', 'log_loss', 'AUC_micro', 'AUC_macro', 'average_precision_score_micro', 'average_precision_score_weighted', 'accuracy_table', 'norm_macro_recall', 'AUC_weighted']\n"
     ]
    },
    {
     "name": "stdout",
     "output_type": "stream",
     "text": [
      "{'artifacts': {'confusion_matrix': {'data': {'class_labels': ['0', '1'],\n",
      "                                             'matrix': [[2, 1], [1, 2]]},\n",
      "                                    'schema_type': 'confusion_matrix',\n",
      "                                    'schema_version': '1.0.0'}},\n",
      " 'metrics': {'accuracy': 0.6666666666666666,\n",
      "             'balanced_accuracy': 0.6666666666666666,\n",
      "             'f1_score_binary': 0.6666666666666666,\n",
      "             'f1_score_macro': 0.6666666666666666,\n",
      "             'f1_score_micro': 0.6666666666666666,\n",
      "             'f1_score_weighted': 0.6666666666666666,\n",
      "             'matthews_correlation': 0.3333333333333333,\n",
      "             'precision_score_binary': 0.6666666666666666,\n",
      "             'precision_score_macro': 0.6666666666666666,\n",
      "             'precision_score_micro': 0.6666666666666666,\n",
      "             'precision_score_weighted': 0.6666666666666666,\n",
      "             'recall_score_binary': 0.6666666666666666,\n",
      "             'recall_score_macro': 0.6666666666666666,\n",
      "             'recall_score_micro': 0.6666666666666666,\n",
      "             'recall_score_weighted': 0.6666666666666666,\n",
      "             'weighted_accuracy': 0.6666666666666666}}\n"
     ]
    }
   ],
   "source": [
    "from azureml.metrics import score, constants\n",
    "import numpy as np\n",
    "from pprint import pprint\n",
    "\n",
    "\n",
    "metrics = score(task_type=constants.Tasks.CLASSIFICATION,\n",
    "                model=sklearn_pyfunc,\n",
    "                X_test=X,\n",
    "                y_test=y)\n",
    "\n",
    "pprint(metrics)"
   ]
  },
  {
   "cell_type": "markdown",
   "id": "10224c93",
   "metadata": {},
   "source": [
    "### <font color=\"parrot-green\">Running score on a AutoML DPv2 model</font>"
   ]
  },
  {
   "cell_type": "code",
   "execution_count": 21,
   "id": "9c4759b3",
   "metadata": {},
   "outputs": [
    {
     "data": {
      "text/html": [
       "<div>\n",
       "<style scoped>\n",
       "    .dataframe tbody tr th:only-of-type {\n",
       "        vertical-align: middle;\n",
       "    }\n",
       "\n",
       "    .dataframe tbody tr th {\n",
       "        vertical-align: top;\n",
       "    }\n",
       "\n",
       "    .dataframe thead th {\n",
       "        text-align: right;\n",
       "    }\n",
       "</style>\n",
       "<table border=\"1\" class=\"dataframe\">\n",
       "  <thead>\n",
       "    <tr style=\"text-align: right;\">\n",
       "      <th></th>\n",
       "      <th>VendorName</th>\n",
       "      <th>ModelName</th>\n",
       "      <th>MYCT</th>\n",
       "      <th>MMIN</th>\n",
       "      <th>MMAX</th>\n",
       "      <th>CACH</th>\n",
       "      <th>CHMIN</th>\n",
       "      <th>CHMAX</th>\n",
       "      <th>PRP</th>\n",
       "      <th>ERP</th>\n",
       "    </tr>\n",
       "  </thead>\n",
       "  <tbody>\n",
       "    <tr>\n",
       "      <th>0</th>\n",
       "      <td>adviser</td>\n",
       "      <td>32/60</td>\n",
       "      <td>125</td>\n",
       "      <td>256</td>\n",
       "      <td>6000</td>\n",
       "      <td>256</td>\n",
       "      <td>16</td>\n",
       "      <td>128</td>\n",
       "      <td>198</td>\n",
       "      <td>199</td>\n",
       "    </tr>\n",
       "    <tr>\n",
       "      <th>1</th>\n",
       "      <td>amdahl</td>\n",
       "      <td>470v/7</td>\n",
       "      <td>29</td>\n",
       "      <td>8000</td>\n",
       "      <td>32000</td>\n",
       "      <td>32</td>\n",
       "      <td>8</td>\n",
       "      <td>32</td>\n",
       "      <td>269</td>\n",
       "      <td>253</td>\n",
       "    </tr>\n",
       "    <tr>\n",
       "      <th>2</th>\n",
       "      <td>amdahl</td>\n",
       "      <td>470v/7a</td>\n",
       "      <td>29</td>\n",
       "      <td>8000</td>\n",
       "      <td>32000</td>\n",
       "      <td>32</td>\n",
       "      <td>8</td>\n",
       "      <td>32</td>\n",
       "      <td>220</td>\n",
       "      <td>253</td>\n",
       "    </tr>\n",
       "    <tr>\n",
       "      <th>3</th>\n",
       "      <td>amdahl</td>\n",
       "      <td>470v/7b</td>\n",
       "      <td>29</td>\n",
       "      <td>8000</td>\n",
       "      <td>32000</td>\n",
       "      <td>32</td>\n",
       "      <td>8</td>\n",
       "      <td>32</td>\n",
       "      <td>172</td>\n",
       "      <td>253</td>\n",
       "    </tr>\n",
       "    <tr>\n",
       "      <th>4</th>\n",
       "      <td>amdahl</td>\n",
       "      <td>470v/7c</td>\n",
       "      <td>29</td>\n",
       "      <td>8000</td>\n",
       "      <td>16000</td>\n",
       "      <td>32</td>\n",
       "      <td>8</td>\n",
       "      <td>16</td>\n",
       "      <td>132</td>\n",
       "      <td>132</td>\n",
       "    </tr>\n",
       "  </tbody>\n",
       "</table>\n",
       "</div>"
      ],
      "text/plain": [
       "  VendorName ModelName  MYCT  MMIN   MMAX  CACH  CHMIN  CHMAX  PRP  ERP\n",
       "0    adviser     32/60   125   256   6000   256     16    128  198  199\n",
       "1     amdahl    470v/7    29  8000  32000    32      8     32  269  253\n",
       "2     amdahl   470v/7a    29  8000  32000    32      8     32  220  253\n",
       "3     amdahl   470v/7b    29  8000  32000    32      8     32  172  253\n",
       "4     amdahl   470v/7c    29  8000  16000    32      8     16  132  132"
      ]
     },
     "execution_count": 21,
     "metadata": {},
     "output_type": "execute_result"
    }
   ],
   "source": [
    "import pickle\n",
    "import pandas as pd\n",
    "\n",
    "# BYOM (Bring your own model)\n",
    "regression_model = pickle.load(open(\"../models/regression_downloads/outputs/mlflow-model/model.pkl\", \"rb\"))\n",
    "\n",
    "# BYOD (Bring your own data)\n",
    "test_data = pd.read_csv(\"../models/regression_data/training-mltable-folder/training-machine-dataset.csv\")\n",
    "test_data.head()"
   ]
  },
  {
   "cell_type": "code",
   "execution_count": 22,
   "id": "16edaca8",
   "metadata": {},
   "outputs": [],
   "source": [
    "X_test = test_data.drop([\"ERP\"], axis=1)\n",
    "y_test = test_data[\"ERP\"]"
   ]
  },
  {
   "cell_type": "code",
   "execution_count": 30,
   "id": "3e5a9b77",
   "metadata": {},
   "outputs": [
    {
     "name": "stderr",
     "output_type": "stream",
     "text": [
      "2022-09-30:20:06:05,116 INFO     [_validation.py:241] Regression metrics debug: {'y_test': (189,), 'y_pred': (189,), 'y_test_unique': 94, 'y_pred_unique': 186, 'y_test_has_negative': False, 'y_pred_has_negative': False, 'min_max_equal': None, 'sample_weight': None}\n"
     ]
    },
    {
     "name": "stdout",
     "output_type": "stream",
     "text": [
      "{'explained_variance': 0.9999999425990158,\n",
      " 'mean_absolute_error': 0.022703927660745287,\n",
      " 'mean_absolute_percentage_error': 0.052861558018746195,\n",
      " 'median_absolute_error': 0.014577865600585938,\n",
      " 'normalized_mean_absolute_error': 1.8564127277796637e-05,\n",
      " 'normalized_median_absolute_error': 1.1919759280936988e-05,\n",
      " 'normalized_root_mean_squared_error': 2.5473938342916336e-05,\n",
      " 'normalized_root_mean_squared_log_error': 0.0001769234400455919,\n",
      " 'r2_score': 0.9999999425988585,\n",
      " 'root_mean_squared_error': 0.031154626593386678,\n",
      " 'root_mean_squared_log_error': 0.0007695233998982548,\n",
      " 'spearman_correlation': 0.9997955664565417}\n",
      "{'residuals': {'schema_type': 'residuals', 'schema_version': '1.0.0', 'data': {'bin_edges': [-325.09999999999997, -260.08, -195.06, -130.04, -65.02, 0.0, 65.02, 130.04, 195.06, 260.08, 325.09999999999997], 'bin_counts': [0, 0, 0, 0, 103, 86, 0, 0, 0, 0], 'mean': -5.1589239211309523e-05, 'stddev': 0.031154583879804177, 'res_count': 189}}, 'predicted_true': {'schema_type': 'predictions', 'schema_version': '1.0.0', 'data': {'bin_edges': [15.0, 16.76, 67.07, 117.39, 167.7, 218.01, 268.33, 318.64, 368.95, 419.27, 469.58, 519.89, 570.21, 620.52, 1238.0], 'bin_counts': [2, 120, 33, 11, 6, 6, 3, 2, 2, 1, 0, 0, 1, 2], 'bin_averages': [14.995695114135742, 33.90872573852539, 87.91040802001953, 133.90472412109375, 182.82591247558594, 252.0086212158203, 280.3072509765625, 355.49542236328125, 381.0300598144531, 426.00421142578125, 0.0, 0.0, 602.9922485351562, 993.490234375], 'bin_errors': [0.004260063171386719, 12.874013900756836, 15.082710266113281, 11.799074172973633, 9.309393882751465, 15.545145988464355, 8.187540054321289, 5.4639739990234375, 0.038238525390625, 0.0, 0.0, 0.0, 0.0, 244.51004028320312]}}}\n"
     ]
    }
   ],
   "source": [
    "from azureml.metrics import score, constants\n",
    "from pprint import pprint\n",
    "\n",
    "metrics = score(task_type=constants.Tasks.REGRESSION,\n",
    "                model=regression_model,\n",
    "                X_test=X_test,\n",
    "                y_test=y_test)\n",
    "pprint(metrics[\"metrics\"])\n",
    "print(metrics[\"artifacts\"])"
   ]
  },
  {
   "cell_type": "markdown",
   "id": "5aa73e2b",
   "metadata": {},
   "source": [
    "### <font color=\"parrot-green\">Running score on a AutoML forecasting model</font>"
   ]
  },
  {
   "cell_type": "code",
   "execution_count": 9,
   "id": "a979b6c5",
   "metadata": {},
   "outputs": [
    {
     "data": {
      "text/html": [
       "<div>\n",
       "<style scoped>\n",
       "    .dataframe tbody tr th:only-of-type {\n",
       "        vertical-align: middle;\n",
       "    }\n",
       "\n",
       "    .dataframe tbody tr th {\n",
       "        vertical-align: top;\n",
       "    }\n",
       "\n",
       "    .dataframe thead th {\n",
       "        text-align: right;\n",
       "    }\n",
       "</style>\n",
       "<table border=\"1\" class=\"dataframe\">\n",
       "  <thead>\n",
       "    <tr style=\"text-align: right;\">\n",
       "      <th></th>\n",
       "      <th>WeekStarting</th>\n",
       "      <th>Store</th>\n",
       "      <th>Brand</th>\n",
       "      <th>Quantity</th>\n",
       "      <th>Advert</th>\n",
       "      <th>Price</th>\n",
       "      <th>Age60</th>\n",
       "      <th>COLLEGE</th>\n",
       "      <th>INCOME</th>\n",
       "      <th>Hincome150</th>\n",
       "      <th>Large HH</th>\n",
       "      <th>Minorities</th>\n",
       "      <th>WorkingWoman</th>\n",
       "      <th>SSTRDIST</th>\n",
       "      <th>SSTRVOL</th>\n",
       "      <th>CPDIST5</th>\n",
       "      <th>CPWVOL5</th>\n",
       "    </tr>\n",
       "  </thead>\n",
       "  <tbody>\n",
       "    <tr>\n",
       "      <th>0</th>\n",
       "      <td>1992-05-21</td>\n",
       "      <td>2</td>\n",
       "      <td>dominicks</td>\n",
       "      <td>9664</td>\n",
       "      <td>0</td>\n",
       "      <td>1.69</td>\n",
       "      <td>0.23</td>\n",
       "      <td>0.25</td>\n",
       "      <td>10.55</td>\n",
       "      <td>0.46</td>\n",
       "      <td>0.10</td>\n",
       "      <td>0.11</td>\n",
       "      <td>0.30</td>\n",
       "      <td>2.11</td>\n",
       "      <td>1.14</td>\n",
       "      <td>1.93</td>\n",
       "      <td>0.38</td>\n",
       "    </tr>\n",
       "    <tr>\n",
       "      <th>1</th>\n",
       "      <td>1992-05-28</td>\n",
       "      <td>2</td>\n",
       "      <td>dominicks</td>\n",
       "      <td>45568</td>\n",
       "      <td>0</td>\n",
       "      <td>1.69</td>\n",
       "      <td>0.23</td>\n",
       "      <td>0.25</td>\n",
       "      <td>10.55</td>\n",
       "      <td>0.46</td>\n",
       "      <td>0.10</td>\n",
       "      <td>0.11</td>\n",
       "      <td>0.30</td>\n",
       "      <td>2.11</td>\n",
       "      <td>1.14</td>\n",
       "      <td>1.93</td>\n",
       "      <td>0.38</td>\n",
       "    </tr>\n",
       "    <tr>\n",
       "      <th>2</th>\n",
       "      <td>1992-06-04</td>\n",
       "      <td>2</td>\n",
       "      <td>dominicks</td>\n",
       "      <td>20992</td>\n",
       "      <td>0</td>\n",
       "      <td>1.74</td>\n",
       "      <td>0.23</td>\n",
       "      <td>0.25</td>\n",
       "      <td>10.55</td>\n",
       "      <td>0.46</td>\n",
       "      <td>0.10</td>\n",
       "      <td>0.11</td>\n",
       "      <td>0.30</td>\n",
       "      <td>2.11</td>\n",
       "      <td>1.14</td>\n",
       "      <td>1.93</td>\n",
       "      <td>0.38</td>\n",
       "    </tr>\n",
       "    <tr>\n",
       "      <th>3</th>\n",
       "      <td>1992-06-11</td>\n",
       "      <td>2</td>\n",
       "      <td>dominicks</td>\n",
       "      <td>6592</td>\n",
       "      <td>0</td>\n",
       "      <td>2.09</td>\n",
       "      <td>0.23</td>\n",
       "      <td>0.25</td>\n",
       "      <td>10.55</td>\n",
       "      <td>0.46</td>\n",
       "      <td>0.10</td>\n",
       "      <td>0.11</td>\n",
       "      <td>0.30</td>\n",
       "      <td>2.11</td>\n",
       "      <td>1.14</td>\n",
       "      <td>1.93</td>\n",
       "      <td>0.38</td>\n",
       "    </tr>\n",
       "    <tr>\n",
       "      <th>4</th>\n",
       "      <td>1992-06-18</td>\n",
       "      <td>2</td>\n",
       "      <td>dominicks</td>\n",
       "      <td>4992</td>\n",
       "      <td>0</td>\n",
       "      <td>2.05</td>\n",
       "      <td>0.23</td>\n",
       "      <td>0.25</td>\n",
       "      <td>10.55</td>\n",
       "      <td>0.46</td>\n",
       "      <td>0.10</td>\n",
       "      <td>0.11</td>\n",
       "      <td>0.30</td>\n",
       "      <td>2.11</td>\n",
       "      <td>1.14</td>\n",
       "      <td>1.93</td>\n",
       "      <td>0.38</td>\n",
       "    </tr>\n",
       "  </tbody>\n",
       "</table>\n",
       "</div>"
      ],
      "text/plain": [
       "  WeekStarting  Store      Brand  Quantity  Advert  Price  Age60  COLLEGE  \\\n",
       "0   1992-05-21      2  dominicks      9664       0   1.69   0.23     0.25   \n",
       "1   1992-05-28      2  dominicks     45568       0   1.69   0.23     0.25   \n",
       "2   1992-06-04      2  dominicks     20992       0   1.74   0.23     0.25   \n",
       "3   1992-06-11      2  dominicks      6592       0   2.09   0.23     0.25   \n",
       "4   1992-06-18      2  dominicks      4992       0   2.05   0.23     0.25   \n",
       "\n",
       "   INCOME  Hincome150  Large HH  Minorities  WorkingWoman  SSTRDIST  SSTRVOL  \\\n",
       "0   10.55        0.46      0.10        0.11          0.30      2.11     1.14   \n",
       "1   10.55        0.46      0.10        0.11          0.30      2.11     1.14   \n",
       "2   10.55        0.46      0.10        0.11          0.30      2.11     1.14   \n",
       "3   10.55        0.46      0.10        0.11          0.30      2.11     1.14   \n",
       "4   10.55        0.46      0.10        0.11          0.30      2.11     1.14   \n",
       "\n",
       "   CPDIST5  CPWVOL5  \n",
       "0     1.93     0.38  \n",
       "1     1.93     0.38  \n",
       "2     1.93     0.38  \n",
       "3     1.93     0.38  \n",
       "4     1.93     0.38  "
      ]
     },
     "execution_count": 9,
     "metadata": {},
     "output_type": "execute_result"
    }
   ],
   "source": [
    "import pickle\n",
    "import pandas as pd\n",
    "\n",
    "# BYOM (Bring your own model)\n",
    "forecasting_model = pickle.load(open(\"../models/forecasting_downloads/outputs/model.pkl\", \"rb\"))\n",
    "\n",
    "# BYOD (Bring your own data)\n",
    "train_data = pd.read_parquet(\"../models/forecasting_data/training-mltable-folder/dominicks_OJ_train.parquet\")\n",
    "test_data = pd.read_csv(\"../models/forecasting_data/dominicks_OJ_test.csv\")\n",
    "test_data.head()"
   ]
  },
  {
   "cell_type": "code",
   "execution_count": 10,
   "id": "99dce5bd",
   "metadata": {},
   "outputs": [
    {
     "name": "stdout",
     "output_type": "stream",
     "text": [
      "{'explained_variance': 0.16627892638853692,\n",
      " 'mean_absolute_error': 10658.950311385152,\n",
      " 'mean_absolute_percentage_error': 99.40934883574148,\n",
      " 'median_absolute_error': 3898.672441449179,\n",
      " 'normalized_mean_absolute_error': 0.08940639910444168,\n",
      " 'normalized_median_absolute_error': 0.03513868652088428,\n",
      " 'normalized_root_mean_squared_error': 0.14311918337603183,\n",
      " 'normalized_root_mean_squared_log_error': 0.2042272978568042,\n",
      " 'r2_score': 0.15907917480360712,\n",
      " 'root_mean_squared_error': 18862.385813219968,\n",
      " 'root_mean_squared_log_error': 0.7915298905638458,\n",
      " 'spearman_correlation': 0.6738070254459813}\n",
      "{'forecast_mean_absolute_percentage_error': {'schema_type': 'mape_table', 'schema_version': '1.0.0', 'data': {0.0: {'mape': 33.98070654680917, 'count': 9}, 1.0: {'mape': 32.36832097834507, 'count': 9}, 2.0: {'mape': 49.26535655047404, 'count': 9}, 3.0: {'mape': 55.703952253733775, 'count': 9}, 4.0: {'mape': 49.98196283724266, 'count': 9}, 5.0: {'mape': 264.2824875678844, 'count': 9}, 6.0: {'mape': 56.29197694250576, 'count': 9}, 7.0: {'mape': 230.22194535182396, 'count': 9}, 8.0: {'mape': 14.523282947283299, 'count': 9}, 9.0: {'mape': 48.37198227392128, 'count': 9}, 10.0: {'mape': 31.858643732941474, 'count': 9}, 11.0: {'mape': 466.87765693954196, 'count': 9}, 12.0: {'mape': 73.01575066539961, 'count': 9}, 13.0: {'mape': 100.49998588975858, 'count': 9}, 14.0: {'mape': 122.256360664717, 'count': 9}, 15.0: {'mape': 88.63387384802012, 'count': 9}, 16.0: {'mape': 80.62326895893145, 'count': 9}, 17.0: {'mape': 46.921935275725865, 'count': 9}, 18.0: {'mape': 110.22331358230771, 'count': 9}, 19.0: {'mape': 32.28421290746238, 'count': 9}}}, 'forecast_table': {'schema_type': 'forecast_horizon_table', 'schema_version': '1.0.0', 'data': {'time': [['1992-01-02T00:00:00', '1992-01-09T00:00:00', '1992-01-16T00:00:00', '1992-01-23T00:00:00', '1992-01-30T00:00:00', '1992-02-06T00:00:00', '1992-02-13T00:00:00', '1992-02-20T00:00:00', '1992-02-27T00:00:00', '1992-03-05T00:00:00', '1992-03-12T00:00:00', '1992-03-19T00:00:00', '1992-03-26T00:00:00', '1992-04-02T00:00:00', '1992-04-09T00:00:00', '1992-04-16T00:00:00', '1992-04-23T00:00:00', '1992-04-30T00:00:00', '1992-05-07T00:00:00', '1992-05-14T00:00:00', '1992-05-21T00:00:00', '1992-05-28T00:00:00', '1992-06-04T00:00:00', '1992-06-11T00:00:00', '1992-06-18T00:00:00', '1992-06-25T00:00:00', '1992-07-02T00:00:00', '1992-07-09T00:00:00', '1992-07-16T00:00:00', '1992-07-23T00:00:00', '1992-07-30T00:00:00', '1992-08-06T00:00:00', '1992-08-13T00:00:00', '1992-08-20T00:00:00', '1992-08-27T00:00:00', '1992-09-03T00:00:00', '1992-09-10T00:00:00', '1992-09-17T00:00:00', '1992-09-24T00:00:00', '1992-10-01T00:00:00'], ['1992-01-02T00:00:00', '1992-01-09T00:00:00', '1992-01-16T00:00:00', '1992-01-23T00:00:00', '1992-01-30T00:00:00', '1992-02-06T00:00:00', '1992-02-13T00:00:00', '1992-02-20T00:00:00', '1992-02-27T00:00:00', '1992-03-05T00:00:00', '1992-03-12T00:00:00', '1992-03-19T00:00:00', '1992-03-26T00:00:00', '1992-04-02T00:00:00', '1992-04-09T00:00:00', '1992-04-16T00:00:00', '1992-04-23T00:00:00', '1992-04-30T00:00:00', '1992-05-07T00:00:00', '1992-05-14T00:00:00', '1992-05-21T00:00:00', '1992-05-28T00:00:00', '1992-06-04T00:00:00', '1992-06-11T00:00:00', '1992-06-18T00:00:00', '1992-06-25T00:00:00', '1992-07-02T00:00:00', '1992-07-09T00:00:00', '1992-07-16T00:00:00', '1992-07-23T00:00:00', '1992-07-30T00:00:00', '1992-08-06T00:00:00', '1992-08-13T00:00:00', '1992-08-20T00:00:00', '1992-08-27T00:00:00', '1992-09-03T00:00:00', '1992-09-10T00:00:00', '1992-09-17T00:00:00', '1992-09-24T00:00:00', '1992-10-01T00:00:00'], ['1992-01-02T00:00:00', '1992-01-09T00:00:00', '1992-01-16T00:00:00', '1992-01-23T00:00:00', '1992-01-30T00:00:00', '1992-02-06T00:00:00', '1992-02-13T00:00:00', '1992-02-20T00:00:00', '1992-02-27T00:00:00', '1992-03-05T00:00:00', '1992-03-12T00:00:00', '1992-03-19T00:00:00', '1992-03-26T00:00:00', '1992-04-02T00:00:00', '1992-04-09T00:00:00', '1992-04-16T00:00:00', '1992-04-23T00:00:00', '1992-04-30T00:00:00', '1992-05-07T00:00:00', '1992-05-14T00:00:00', '1992-05-21T00:00:00', '1992-05-28T00:00:00', '1992-06-04T00:00:00', '1992-06-11T00:00:00', '1992-06-18T00:00:00', '1992-06-25T00:00:00', '1992-07-02T00:00:00', '1992-07-09T00:00:00', '1992-07-16T00:00:00', '1992-07-23T00:00:00', '1992-07-30T00:00:00', '1992-08-06T00:00:00', '1992-08-13T00:00:00', '1992-08-20T00:00:00', '1992-08-27T00:00:00', '1992-09-03T00:00:00', '1992-09-10T00:00:00', '1992-09-17T00:00:00', '1992-09-24T00:00:00', '1992-10-01T00:00:00'], ['1991-12-26T00:00:00', '1992-01-02T00:00:00', '1992-01-09T00:00:00', '1992-01-16T00:00:00', '1992-01-23T00:00:00', '1992-01-30T00:00:00', '1992-02-06T00:00:00', '1992-02-13T00:00:00', '1992-02-20T00:00:00', '1992-02-27T00:00:00', '1992-03-05T00:00:00', '1992-03-12T00:00:00', '1992-03-19T00:00:00', '1992-03-26T00:00:00', '1992-04-02T00:00:00', '1992-04-09T00:00:00', '1992-04-16T00:00:00', '1992-04-23T00:00:00', '1992-04-30T00:00:00', '1992-05-07T00:00:00', '1992-05-14T00:00:00', '1992-05-21T00:00:00', '1992-05-28T00:00:00', '1992-06-04T00:00:00', '1992-06-11T00:00:00', '1992-06-25T00:00:00', '1992-07-02T00:00:00', '1992-07-09T00:00:00', '1992-07-16T00:00:00', '1992-07-23T00:00:00', '1992-07-30T00:00:00', '1992-08-06T00:00:00', '1992-08-13T00:00:00', '1992-08-20T00:00:00', '1992-08-27T00:00:00', '1992-09-03T00:00:00', '1992-09-10T00:00:00', '1992-09-17T00:00:00', '1992-09-24T00:00:00', '1992-10-01T00:00:00'], ['1991-12-26T00:00:00', '1992-01-02T00:00:00', '1992-01-09T00:00:00', '1992-01-16T00:00:00', '1992-01-23T00:00:00', '1992-01-30T00:00:00', '1992-02-06T00:00:00', '1992-02-13T00:00:00', '1992-02-20T00:00:00', '1992-02-27T00:00:00', '1992-03-05T00:00:00', '1992-03-12T00:00:00', '1992-03-19T00:00:00', '1992-03-26T00:00:00', '1992-04-02T00:00:00', '1992-04-09T00:00:00', '1992-04-16T00:00:00', '1992-04-23T00:00:00', '1992-04-30T00:00:00', '1992-05-07T00:00:00', '1992-05-14T00:00:00', '1992-05-21T00:00:00', '1992-05-28T00:00:00', '1992-06-04T00:00:00', '1992-06-11T00:00:00', '1992-06-25T00:00:00', '1992-07-02T00:00:00', '1992-07-09T00:00:00', '1992-07-16T00:00:00', '1992-07-23T00:00:00', '1992-07-30T00:00:00', '1992-08-06T00:00:00', '1992-08-13T00:00:00', '1992-08-20T00:00:00', '1992-08-27T00:00:00', '1992-09-03T00:00:00', '1992-09-10T00:00:00', '1992-09-17T00:00:00', '1992-09-24T00:00:00', '1992-10-01T00:00:00'], ['1991-12-26T00:00:00', '1992-01-02T00:00:00', '1992-01-09T00:00:00', '1992-01-16T00:00:00', '1992-01-23T00:00:00', '1992-01-30T00:00:00', '1992-02-06T00:00:00', '1992-02-13T00:00:00', '1992-02-20T00:00:00', '1992-02-27T00:00:00', '1992-03-05T00:00:00', '1992-03-12T00:00:00', '1992-03-19T00:00:00', '1992-03-26T00:00:00', '1992-04-02T00:00:00', '1992-04-09T00:00:00', '1992-04-16T00:00:00', '1992-04-23T00:00:00', '1992-04-30T00:00:00', '1992-05-07T00:00:00', '1992-05-14T00:00:00', '1992-05-21T00:00:00', '1992-05-28T00:00:00', '1992-06-04T00:00:00', '1992-06-11T00:00:00', '1992-06-25T00:00:00', '1992-07-02T00:00:00', '1992-07-09T00:00:00', '1992-07-16T00:00:00', '1992-07-23T00:00:00', '1992-07-30T00:00:00', '1992-08-06T00:00:00', '1992-08-13T00:00:00', '1992-08-20T00:00:00', '1992-08-27T00:00:00', '1992-09-03T00:00:00', '1992-09-10T00:00:00', '1992-09-17T00:00:00', '1992-09-24T00:00:00', '1992-10-01T00:00:00'], ['1991-12-26T00:00:00', '1992-01-02T00:00:00', '1992-01-09T00:00:00', '1992-01-16T00:00:00', '1992-01-23T00:00:00', '1992-01-30T00:00:00', '1992-02-06T00:00:00', '1992-02-13T00:00:00', '1992-02-20T00:00:00', '1992-02-27T00:00:00', '1992-03-05T00:00:00', '1992-03-12T00:00:00', '1992-03-19T00:00:00', '1992-03-26T00:00:00', '1992-04-02T00:00:00', '1992-04-09T00:00:00', '1992-04-16T00:00:00', '1992-04-23T00:00:00', '1992-04-30T00:00:00', '1992-05-07T00:00:00', '1992-05-14T00:00:00', '1992-05-21T00:00:00', '1992-05-28T00:00:00', '1992-06-04T00:00:00', '1992-06-11T00:00:00', '1992-06-25T00:00:00', '1992-07-02T00:00:00', '1992-07-09T00:00:00', '1992-07-16T00:00:00', '1992-07-23T00:00:00', '1992-07-30T00:00:00', '1992-08-06T00:00:00', '1992-08-13T00:00:00', '1992-08-20T00:00:00', '1992-08-27T00:00:00', '1992-09-03T00:00:00', '1992-09-10T00:00:00', '1992-09-17T00:00:00', '1992-09-24T00:00:00', '1992-10-01T00:00:00'], ['1991-12-26T00:00:00', '1992-01-02T00:00:00', '1992-01-09T00:00:00', '1992-01-16T00:00:00', '1992-01-23T00:00:00', '1992-01-30T00:00:00', '1992-02-06T00:00:00', '1992-02-13T00:00:00', '1992-02-20T00:00:00', '1992-02-27T00:00:00', '1992-03-05T00:00:00', '1992-03-12T00:00:00', '1992-03-19T00:00:00', '1992-03-26T00:00:00', '1992-04-02T00:00:00', '1992-04-09T00:00:00', '1992-04-16T00:00:00', '1992-04-23T00:00:00', '1992-04-30T00:00:00', '1992-05-07T00:00:00', '1992-05-14T00:00:00', '1992-05-21T00:00:00', '1992-05-28T00:00:00', '1992-06-04T00:00:00', '1992-06-11T00:00:00', '1992-06-25T00:00:00', '1992-07-02T00:00:00', '1992-07-09T00:00:00', '1992-07-16T00:00:00', '1992-07-23T00:00:00', '1992-07-30T00:00:00', '1992-08-06T00:00:00', '1992-08-13T00:00:00', '1992-08-20T00:00:00', '1992-08-27T00:00:00', '1992-09-03T00:00:00', '1992-09-10T00:00:00', '1992-09-17T00:00:00', '1992-09-24T00:00:00', '1992-10-01T00:00:00'], ['1991-12-26T00:00:00', '1992-01-02T00:00:00', '1992-01-09T00:00:00', '1992-01-16T00:00:00', '1992-01-23T00:00:00', '1992-01-30T00:00:00', '1992-02-06T00:00:00', '1992-02-13T00:00:00', '1992-02-20T00:00:00', '1992-02-27T00:00:00', '1992-03-05T00:00:00', '1992-03-12T00:00:00', '1992-03-19T00:00:00', '1992-03-26T00:00:00', '1992-04-02T00:00:00', '1992-04-09T00:00:00', '1992-04-16T00:00:00', '1992-04-23T00:00:00', '1992-04-30T00:00:00', '1992-05-07T00:00:00', '1992-05-14T00:00:00', '1992-05-21T00:00:00', '1992-05-28T00:00:00', '1992-06-04T00:00:00', '1992-06-11T00:00:00', '1992-06-25T00:00:00', '1992-07-02T00:00:00', '1992-07-09T00:00:00', '1992-07-16T00:00:00', '1992-07-23T00:00:00', '1992-07-30T00:00:00', '1992-08-06T00:00:00', '1992-08-13T00:00:00', '1992-08-20T00:00:00', '1992-08-27T00:00:00', '1992-09-03T00:00:00', '1992-09-10T00:00:00', '1992-09-17T00:00:00', '1992-09-24T00:00:00', '1992-10-01T00:00:00']], 'grain_names': ['Store', 'Brand'], 'grain_value_list': [['2', 'dominicks'], ['2', 'minute.maid'], ['2', 'tropicana'], ['5', 'dominicks'], ['5', 'minute.maid'], ['5', 'tropicana'], ['8', 'dominicks'], ['8', 'minute.maid'], ['8', 'tropicana']], 'y_true': [[11712.0, 4032.0, 6336.0, 13632.0, 45120.0, 9984.0, 4800.0, 11776.0, 11584.0, 51264.0, 14976.0, 30784.0, 12480.0, 3264.0, 8768.0, 70848.0, 18560.0, 9152.0, 9600.0, 4800.0, 9664.0, 45568.0, 20992.0, 6592.0, 4992.0, 8064.0, 7360.0, 10048.0, 10112.0, 9152.0, 36288.0, 3776.0, 3328.0, 13824.0, 9024.0, 2048.0, 1984.0, 4160.0, 35264.0, 8640.0], [12032.0, 7040.0, 10240.0, 6848.0, 3968.0, 5888.0, 6208.0, 72256.0, 11520.0, 5824.0, 19392.0, 9536.0, 5312.0, 14528.0, 12416.0, 5376.0, 19008.0, 3904.0, 6336.0, 5440.0, 22400.0, 3968.0, 3264.0, 4352.0, 4480.0, 3840.0, 13312.0, 3776.0, 4800.0, 24960.0, 4544.0, 3968.0, 49600.0, 23488.0, 19008.0, 11584.0, 26752.0, 3904.0, 3712.0, 41216.0], [13120.0, 13120.0, 9792.0, 3520.0, 5504.0, 6720.0, 20224.0, 5056.0, 43584.0, 25728.0, 31808.0, 20736.0, 15168.0, 28096.0, 12416.0, 5376.0, 9792.0, 16960.0, 8320.0, 6912.0, 6976.0, 7232.0, 51520.0, 22272.0, 46144.0, 4352.0, 17280.0, 5696.0, 6848.0, 4416.0, 4672.0, 7168.0, 5056.0, 13376.0, 8128.0, 19456.0, 10048.0, 6336.0, 16192.0, 5824.0], [5888.0, 6848.0, 1792.0, 5248.0, 16768.0, 52160.0, 16640.0, 1344.0, 4608.0, 12672.0, 48640.0, 13248.0, 29248.0, 4608.0, 3136.0, 13184.0, 67712.0, 18880.0, 6208.0, 5952.0, 4160.0, 23488.0, 60480.0, 20416.0, 6336.0, 1408.0, 4672.0, 19520.0, 7872.0, 5184.0, 42240.0, 6592.0, 2112.0, 21248.0, 1856.0, 3712.0, 2688.0, 6464.0, 40896.0, 6144.0], [27968.0, 24000.0, 6848.0, 15104.0, 11392.0, 5824.0, 7488.0, 8320.0, 99904.0, 6976.0, 9984.0, 32832.0, 8128.0, 6464.0, 36800.0, 12928.0, 7424.0, 34176.0, 4160.0, 5952.0, 6528.0, 30656.0, 6656.0, 4416.0, 5696.0, 5696.0, 39680.0, 6208.0, 7872.0, 54528.0, 6400.0, 5888.0, 56384.0, 27072.0, 3840.0, 6144.0, 36416.0, 5440.0, 7680.0, 50304.0], [13440.0, 12160.0, 11840.0, 8640.0, 5888.0, 7424.0, 5632.0, 33600.0, 5376.0, 54272.0, 33600.0, 24448.0, 22784.0, 19008.0, 15808.0, 14144.0, 9600.0, 10112.0, 31872.0, 9280.0, 7680.0, 8704.0, 9920.0, 91968.0, 44096.0, 7296.0, 12928.0, 6848.0, 8064.0, 4992.0, 7360.0, 8384.0, 8832.0, 17728.0, 9600.0, 25664.0, 9984.0, 8576.0, 13184.0, 7488.0], [25088.0, 13184.0, 3136.0, 5696.0, 19008.0, 121664.0, 38848.0, 6144.0, 13632.0, 9792.0, 86912.0, 24512.0, 58048.0, 13952.0, 15168.0, 14592.0, 145088.0, 43712.0, 20608.0, 18752.0, 20160.0, 18688.0, 133824.0, 63488.0, 71040.0, 15360.0, 17728.0, 24256.0, 19968.0, 15936.0, 76352.0, 17408.0, 17536.0, 31232.0, 19200.0, 12800.0, 15296.0, 20992.0, 73856.0, 16192.0], [15040.0, 9472.0, 5888.0, 14336.0, 11712.0, 7936.0, 5184.0, 7168.0, 216064.0, 15040.0, 11840.0, 25472.0, 16384.0, 20480.0, 34688.0, 22400.0, 7808.0, 48064.0, 7360.0, 6272.0, 6400.0, 54592.0, 8128.0, 4928.0, 5440.0, 5888.0, 23872.0, 6848.0, 8192.0, 55040.0, 6528.0, 6208.0, 94720.0, 55552.0, 18688.0, 14656.0, 30144.0, 6208.0, 7104.0, 65856.0], [15232.0, 47040.0, 9280.0, 6720.0, 5056.0, 6080.0, 10496.0, 39040.0, 4480.0, 61760.0, 15360.0, 54976.0, 34368.0, 10752.0, 20096.0, 16192.0, 6528.0, 8320.0, 30784.0, 18048.0, 12864.0, 7168.0, 9024.0, 84992.0, 14144.0, 7488.0, 12352.0, 5696.0, 7680.0, 5440.0, 5632.0, 8960.0, 6080.0, 8576.0, 8000.0, 21760.0, 12800.0, 10112.0, 10304.0, 6400.0]], 'y_pred': [[11310.780731334951, 11948.848106730644, 11036.242840929608, 7431.3270105201755, 7908.134115553486, 15080.657214145038, 11546.716328556315, 13762.615580851094, 8792.004263856199, 11023.3488738799, 36985.08916737892, 28816.397731357556, 8185.683620726941, 14092.726133193748, 15377.4577330958, 7499.318477315565, 7384.835552890549, 10442.116114930746, 13177.188025966736, 9648.756265289827], [32587.40767265514, 6813.744708102634, 6893.405343672758, 6860.543359454997, 6924.9793820859, 7672.689624953233, 32813.81845533975, 29585.191127650935, 6412.343529157343, 28524.44907906324, 6533.717964299825, 27413.9653769711, 30887.391495049244, 31691.269512292525, 12757.784944891257, 11929.044462366814, 30203.443892184227, 6716.4164265049, 7000.336820033411, 30564.54397521893], [8081.449209306198, 8172.84990124451, 28667.721706902797, 16363.093255576456, 32165.924493169943, 28613.79841587458, 10888.370467075481, 7884.685418254595, 7755.359893416661, 7713.316341206364, 7799.872913153373, 27449.29855119114, 7734.79143475355, 27857.50890853235, 9991.898222592354, 27184.304987244173, 11353.810849088715, 8044.508529898756, 27202.593380496888, 8813.247107223258], [8107.837549219565, 11216.632723008433, 11854.700098404128, 11328.63056072404, 8357.21361097429, 8456.137979330724, 8217.899461101726, 14032.115052826635, 7934.286106149461, 10935.211837977187, 38800.61077142945, 31778.12131991903, 7955.662773486968, 9905.725758738576, 14513.476545215328, 8413.360403778124, 9653.53229671677, 9677.521524822367, 13037.054140566206, 9504.339664135146], [7424.697656474874, 36049.52853752477, 7609.206993393705, 7601.467867629256, 7572.565621037402, 7653.966897290764, 34729.7059391384, 32665.22528894167, 7105.493236841974, 30724.638563945657, 7196.703533150829, 29619.961761717346, 33271.84969167574, 33458.620146779045, 12835.903150116712, 12729.477272430324, 32548.460477459117, 7396.956023090909, 7995.331950165786, 32586.84892045875], [8747.622300731578, 8708.167835472512, 8799.873033217598, 30881.21678885561, 13696.262790678673, 30884.58448194119, 10915.997285445093, 8446.472237454109, 8305.792674552626, 8261.082754713983, 8281.794828789447, 29690.871302202446, 8265.68468091943, 30159.862900524895, 8368.25206719977, 29409.62762475253, 13353.804612106578, 8588.08338813911, 29485.207002119056, 10151.153769921371], [18128.27044020814, 20365.00435285537, 20703.692637644126, 20374.31560082694, 18202.220375253964, 18348.136719626265, 18133.097989531965, 23027.08819683565, 18005.356352630042, 20236.029272929172, 65367.31877361046, 62042.18818635225, 18132.912001679048, 22007.910547851887, 23410.79530315115, 18299.510340597502, 18249.549272400604, 18242.9128873706, 22611.27694657684, 18085.26185112016], [11101.860871053452, 62260.232295509035, 11258.781685174807, 10912.772900474227, 10768.927428733314, 10743.50920045059, 60117.11733788914, 58988.88161749825, 10203.923099978618, 58257.86476056716, 10329.185734089591, 57575.9929787005, 59901.04937921514, 60072.03485079561, 19558.894200861276, 19453.41853794792, 59812.65281615803, 10418.929287109218, 10431.673590051967, 59010.28115456132], [10113.936089149498, 10028.247987233786, 10048.34970893551, 57785.12117648609, 14082.84502569686, 57961.246777488144, 11338.547393341152, 9625.805360357475, 9438.717244569623, 9413.44471276218, 9480.821299353755, 57507.1534891097, 9497.760701555282, 57853.50705725062, 9473.651896705274, 57597.59037968167, 13600.420127775382, 9553.261272170525, 57773.715980683715, 9865.392311630656]], 'PI_upper_bound': [[30065.869820886965, 38472.54946069077, 43521.010044514405, 44941.5051896242, 49845.78824385643, 61021.055563987386, 61168.017876371756, 66810.01828877133, 65057.27153251224, 70332.14811623795, 99188.68258711122, 93785.93213852716, 75808.11900900195, 84267.8437647194, 88015.60543356718, 82519.67483552362, 84714.04888698287, 90013.2201768111, 94928.72604442624, 93524.06452189572], [49103.830709175585, 30171.494168241265, 35500.6892022272, 39893.38943249589, 43856.824036889106, 48129.49844037785, 76512.16635831114, 76300.69004792819, 55961.61263871868, 80753.96467334224, 61312.496055220545, 84628.53309407999, 90438.20164047835, 93490.06576997254, 76725.61630425148, 77994.7366084486, 98302.4006291428, 76789.66480692079, 78993.75574499324, 104428.23328482534], [24967.64774775064, 32053.540891237382, 57915.47552218389, 50135.49033246534, 69924.61230668932, 69976.36853039454, 55565.05238906185, 55646.06739824034, 58413.95550875, 61112.164744497175, 63805.05760062134, 85944.80618175333, 68618.84611278007, 91039.87840443433, 75391.86394273971, 94729.09914102196, 80977.39103824573, 79686.58149987736, 100807.82635014044, 84330.62273426201], [32843.87023935831, 46198.665632706885, 54698.76549540909, 60800.695941001526, 63668.66419978152, 69046.79633097496, 73663.29038157288, 83996.18087222353, 82142.3841765657, 89157.41541519768, 120840.75000658518, 117466.25211392896, 97142.69698933566, 102459.48519327791, 110315.71920536493, 107357.4911643331, 111642.80783689019, 114623.6202539177, 120858.92090099955, 120127.2408417496], [27313.830148161163, 64177.00945110292, 42058.194987463336, 47379.732851001834, 52046.01788594772, 56372.192928531964, 87351.40430495475, 88920.18711609795, 66772.89071190084, 93619.59792253427, 73161.49341374064, 98517.93774985662, 104983.13671494751, 107876.93965082266, 89866.18206093053, 92286.00723917548, 114553.45454258585, 91779.39876382533, 94690.05055611764, 121533.75345027939], [37566.83571590399, 49464.69030413398, 58716.21490246679, 88519.64361920043, 78137.98304507806, 101476.95213748536, 87164.46896248774, 89959.51717477705, 94763.43292006984, 99395.43752113856, 103864.31248009315, 129523.55504070083, 112174.83636786322, 137991.48565641942, 119984.5856749599, 144686.48128544216, 132178.4655700799, 130857.6507941235, 155105.2459111873, 139034.59427872012], [70108.51280826035, 93876.16808519536, 110736.11340885492, 124334.80033693135, 134433.57579713332, 145673.2072275537, 155659.89238426127, 170049.41566151564, 173946.08345678667, 184611.98848355858, 237766.27922017447, 242107.02972877384, 205550.34117073694, 216500.1683705742, 224729.40832644253, 226220.47981280633, 232569.57900108612, 238776.40408439055, 249187.90048966778, 250547.9726948789], [42650.49035001285, 106876.73197893705, 65902.61085189771, 74010.03185839302, 81313.80754064031, 88021.55350802864, 143586.94514413696, 148221.8809843543, 104849.81153685683, 158023.39097081005, 114964.1523657435, 166863.65131214634, 173651.250636218, 178116.19738333818, 141746.2107685394, 145647.9364537855, 189890.98450138269, 144268.42833739327, 147948.96129604426, 200100.04137837532], [45272.471298399745, 59749.92531332747, 70944.7190110562, 128102.19159498658, 92699.71974290021, 144081.71814382783, 104359.28801832556, 109069.16001254485, 114914.32287232035, 120594.49516921763, 126088.49076693629, 179299.89209335108, 136263.66216871308, 189404.7000310935, 145642.07323917857, 198231.73121668265, 158562.77443751166, 158718.29325045153, 211026.2179607222, 167099.14174603735]], 'PI_lower_bound': [[-7444.308358217062, -14574.853247229477, -21448.524362655193, -30078.851168583853, -34029.52001274946, -30859.74113569731, -38074.58521925913, -39284.78712706915, -47473.26300479984, -48285.450368478145, -25218.50425235337, -36153.13667581204, -59436.75176754808, -56082.3914983319, -57260.68996737558, -67521.03788089249, -69944.37778120177, -69128.98794694961, -68574.34999249276, -74226.55199131605], [16070.984636134694, -16544.004752036, -21713.878514881686, -26172.302713585894, -30006.865272717307, -32784.11919047139, -10884.529447631627, -17130.30779262633, -43136.925580404, -23705.06651521576, -48245.0601266209, -29800.60234013779, -28663.41865037986, -30107.526745387488, -51210.04641446896, -54136.64768371497, -37895.51284477435, -63356.83195391098, -64993.08210492642, -43299.14533438749], [-8804.749329138247, -15707.841088748362, -580.0321083782983, -17409.303821312435, -5592.763320349433, -12748.771698645378, -33788.31145491089, -39876.69656173115, -42903.23572191668, -45685.53206208444, -48205.3117743146, -31046.209079371052, -53149.26324327297, -35324.86058736964, -55408.06749755501, -40360.4891665336, -58269.7693400683, -63597.56444007985, -46402.639589146675, -66704.1285198155], [-16628.195140919182, -23765.400186690014, -30989.36529860083, -38143.434819553455, -46954.236977832945, -52134.520372313506, -57227.491459369434, -55931.95076657026, -66273.81196426677, -67286.99173924331, -43239.52846372628, -53910.00947409089, -81231.37144236172, -82648.03367580075, -81288.76611493429, -90530.77035677686, -92335.74324345664, -95268.57720427297, -94784.81261986714, -101118.56151347932], [-12464.434835211418, 7922.047623946626, -26839.78100067593, -32176.797115743324, -36900.88664387292, -41064.25913395043, -17891.99242667795, -23589.736538214616, -52561.90423821689, -32170.32079464296, -58768.086347438984, -39278.01422642192, -38439.437331596026, -40959.699357264566, -64194.37576069711, -66827.05269431484, -49456.533587667625, -76985.48671764351, -78699.38665578607, -56360.05560936188], [-20071.59111444083, -32048.354633188956, -41116.46883603159, -26757.21004148921, -50745.457463720704, -39707.78317360299, -65332.474391597556, -73066.57269986882, -78151.8475709646, -82873.27201171061, -87300.72282251428, -70141.81243629594, -95643.46700602437, -77671.75985536962, -103248.08154056035, -85867.22603593711, -105470.85634586675, -113681.48401784527, -96134.83190694917, -118732.28673887739], [-33851.97192784406, -53146.15937948463, -69328.72813356666, -83586.16913527747, -98029.13504662541, -108976.93378830116, -119393.69640519735, -123995.23926784433, -137935.37075152659, -144139.92993770022, -107031.64167295356, -118022.65335606932, -169284.51716737886, -172484.34727487044, -177907.8177201402, -189621.4591316113, -196070.4804562849, -202290.57830964937, -203965.3465965141, -214377.4489926386], [-20446.76860790595, 17643.732612081018, -43385.04748154811, -52184.48605744457, -59775.95268317369, -66534.53510712746, -23352.71046835868, -30244.117749357785, -84441.96533689958, -41507.66144967574, -94305.78089756431, -51711.665354745324, -53849.151877787735, -57972.12768174695, -102628.42236681686, -106741.09937788968, -70265.67886906664, -123430.56976317482, -127085.61411594032, -82079.47906925267], [-25044.599120100745, -39693.429338859896, -50848.01959318518, -12531.949242014394, -64534.02969150648, -28159.22458885154, -81682.19323164325, -89817.54929182988, -96036.88838318111, -101767.60574369326, -107126.84816822877, -64285.58511513167, -117268.14076560251, -73697.68591659225, -126694.76944576803, -83036.5504573193, -131361.9341819609, -139611.7707061105, -95478.78599935476, -147368.35712277604]]}}, 'forecast_residuals': {'schema_type': 'residuals', 'schema_version': '1.0.0', 'data': {0.0: {'bin_edges': [-51423.2, -41138.56, -30853.92, -20569.28, -10284.64, 0.0, 10284.64, 20569.28, 30853.92, 41138.56, 51423.2], 'bin_counts': [0, 0, 0, 0, 2, 7, 0, 0, 0, 0], 'mean': 2085.762502237044, 'stddev': 3649.8266385997954, 'res_count': 9}, 1.0: {'bin_edges': [-51423.2, -41138.56, -30853.92, -20569.28, -10284.64, 0.0, 10284.64, 20569.28, 30853.92, 41138.56, 51423.2], 'bin_counts': [0, 1, 0, 1, 0, 7, 0, 0, 0, 0], 'mean': -2722.3048391464786, 'stddev': 12119.791498740782, 'res_count': 9}, 2.0: {'bin_edges': [-113120.30736235587, -41138.56, -30853.92, -20569.28, -10284.64, 0.0, 10284.64, 20569.28, 30853.92, 41138.56, 51423.2], 'bin_counts': [2, 0, 1, 0, 2, 4, 0, 0, 0, 0], 'mean': -20770.669550191662, 'stddev': 36401.11107496779, 'res_count': 9}, 3.0: {'bin_edges': [-61086.783211144386, -41138.56, -30853.92, -20569.28, -10284.64, 0.0, 10284.64, 20569.28, 30853.92, 41138.56, 51423.2], 'bin_counts': [2, 0, 1, 0, 2, 4, 0, 0, 0, 0], 'mean': -14876.167942161355, 'stddev': 22383.905927515323, 'res_count': 9}, 4.0: {'bin_edges': [-52837.779624746036, -41138.56, -30853.92, -20569.28, -10284.64, 0.0, 10284.64, 20569.28, 30853.92, 41138.56, 51423.2], 'bin_counts': [1, 0, 1, 1, 1, 5, 0, 0, 0, 0], 'mean': -9187.658572979573, 'stddev': 18862.466302988574, 'res_count': 9}, 5.0: {'bin_edges': [-51423.2, -41138.56, -30853.92, -20569.28, -10284.64, 0.0, 10284.64, 20569.28, 30853.92, 41138.56, 50473.246777488144], 'bin_counts': [0, 0, 0, 0, 0, 6, 0, 2, 0, 1], 'mean': 14002.525256788947, 'stddev': 15194.685476660597, 'res_count': 9}, 6.0: {'bin_edges': [-51423.2, -41138.56, -30853.92, -20569.28, -10284.64, 0.0, 10284.64, 20569.28, 30853.92, 41138.56, 51423.2], 'bin_counts': [0, 0, 0, 0, 4, 3, 1, 0, 1, 0], 'mean': 5501.918961935447, 'stddev': 13005.507914378592, 'res_count': 9}, 7.0: {'bin_edges': [-51423.2, -41138.56, -30853.92, -20569.28, -10284.64, 0.0, 10284.64, 20569.28, 30853.92, 41138.56, 52140.88161749825], 'bin_counts': [0, 0, 0, 0, 2, 4, 0, 2, 0, 1], 'mean': 12124.675542296713, 'stddev': 17732.315576373363, 'res_count': 9}, 8.0: {'bin_edges': [-51423.2, -41138.56, -30853.92, -20569.28, -10284.64, 0.0, 10284.64, 20569.28, 30853.92, 41138.56, 51423.2], 'bin_counts': [0, 0, 0, 0, 3, 6, 0, 0, 0, 0], 'mean': 282.80848901694975, 'stddev': 1337.006751004454, 'res_count': 9}, 9.0: {'bin_edges': [-51423.2, -41138.56, -30853.92, -20569.28, -10284.64, 0.0, 10284.64, 20569.28, 30853.92, 41138.56, 51423.2], 'bin_counts': [0, 0, 1, 0, 0, 8, 0, 0, 0, 0], 'mean': 604.5984663383161, 'stddev': 8684.508613477776, 'res_count': 9}, 10.0: {'bin_edges': [-51423.2, -41138.56, -30853.92, -20569.28, -10284.64, 0.0, 10284.64, 20569.28, 30853.92, 41138.56, 51423.2], 'bin_counts': [0, 0, 0, 1, 1, 7, 0, 0, 0, 0], 'mean': 84.34610947285, 'stddev': 4439.769413011965, 'res_count': 9}, 11.0: {'bin_edges': [-51423.2, -41138.56, -30853.92, -20569.28, -10284.64, 0.0, 10284.64, 20569.28, 30853.92, 41138.56, 51367.9929787005], 'bin_counts': [0, 0, 0, 0, 0, 0, 1, 5, 0, 3], 'mean': 31504.661188613456, 'stddev': 11992.635902182872, 'res_count': 9}, 12.0: {'bin_edges': [-51423.2, -41138.56, -30853.92, -20569.28, -10284.64, 0.0, 10284.64, 20569.28, 30853.92, 41138.56, 51423.2], 'bin_counts': [0, 1, 1, 1, 1, 5, 0, 0, 0, 0], 'mean': -6646.134913437628, 'stddev': 14049.246959613753, 'res_count': 9}, 13.0: {'bin_edges': [-51423.2, -41138.56, -30853.92, -20569.28, -10284.64, 0.0, 10284.64, 20569.28, 30853.92, 41138.56, 49277.50705725062], 'bin_counts': [0, 0, 0, 1, 1, 4, 2, 0, 0, 1], 'mean': 8333.685090662138, 'stddev': 16699.30717149882, 'res_count': 9}, 14.0: {'bin_edges': [-51423.2, -41138.56, -30853.92, -20569.28, -10284.64, 0.0, 10284.64, 20569.28, 30853.92, 41138.56, 51423.2], 'bin_counts': [0, 0, 0, 0, 2, 6, 1, 0, 0, 0], 'mean': 3216.012673758769, 'stddev': 5303.428503035065, 'res_count': 9}, 15.0: {'bin_edges': [-51423.2, -41138.56, -30853.92, -20569.28, -10284.64, 0.0, 10284.64, 20569.28, 30853.92, 41138.56, 51423.2], 'bin_counts': [0, 0, 0, 0, 0, 8, 0, 0, 1, 0], 'mean': 8299.072498457179, 'stddev': 9926.31148613408, 'res_count': 9}, 16.0: {'bin_edges': [-51423.2, -41138.56, -30853.92, -20569.28, -10284.64, 0.0, 10284.64, 20569.28, 30853.92, 41138.56, 51423.2], 'bin_counts': [0, 0, 0, 0, 1, 7, 0, 1, 0, 0], 'mean': 5560.945544086662, 'stddev': 8999.35037380876, 'res_count': 9}, 17.0: {'bin_edges': [-51423.2, -41138.56, -30853.92, -20569.28, -10284.64, 0.0, 10284.64, 20569.28, 30853.92, 41138.56, 51423.2], 'bin_counts': [0, 0, 0, 0, 2, 7, 0, 0, 0, 0], 'mean': 1876.5228282263479, 'stddev': 2546.4521498985287, 'res_count': 9}, 18.0: {'bin_edges': [-51244.723053423164, -41138.56, -30853.92, -20569.28, -10284.64, 0.0, 10284.64, 20569.28, 30853.92, 41138.56, 47469.715980683715], 'bin_counts': [1, 0, 2, 0, 0, 3, 2, 0, 0, 1], 'mean': -2164.180240371043, 'stddev': 26895.14441883094, 'res_count': 9}, 19.0: {'bin_edges': [-51423.2, -41138.56, -30853.92, -20569.28, -10284.64, 0.0, 10284.64, 20569.28, 30853.92, 41138.56, 51423.2], 'bin_counts': [0, 0, 0, 2, 1, 6, 0, 0, 0, 0], 'mean': -2203.797220048953, 'stddev': 7260.510902530634, 'res_count': 9}}}}\n"
     ]
    }
   ],
   "source": [
    "from azureml.metrics import score, constants\n",
    "from pprint import pprint\n",
    "\n",
    "y_train = train_data.pop(\"Quantity\")\n",
    "y_test = test_data.pop(\"Quantity\")\n",
    "metrics = score(task_type=constants.Tasks.FORECASTING,\n",
    "                model=forecasting_model,\n",
    "                X_test=test_data,\n",
    "                y_test=y_test,\n",
    "                X_train=train_data,\n",
    "                y_train=y_train,\n",
    "                time_column_name=\"WeekStarting\",\n",
    "                time_series_id_column_names=[\"Store\", \"Brand\"]\n",
    "               )\n",
    "pprint(metrics[\"metrics\"])\n",
    "print(metrics[\"artifacts\"])"
   ]
  },
  {
   "cell_type": "code",
   "execution_count": null,
   "id": "4bfb6317",
   "metadata": {},
   "outputs": [],
   "source": []
  }
 ],
 "metadata": {
  "kernelspec": {
   "display_name": "dev2",
   "language": "python",
   "name": "dev2"
  },
  "language_info": {
   "codemirror_mode": {
    "name": "ipython",
    "version": 3
   },
   "file_extension": ".py",
   "mimetype": "text/x-python",
   "name": "python",
   "nbconvert_exporter": "python",
   "pygments_lexer": "ipython3",
   "version": "3.7.13"
  }
 },
 "nbformat": 4,
 "nbformat_minor": 5
}
