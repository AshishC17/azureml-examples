{
 "cells": [
  {
   "cell_type": "markdown",
   "metadata": {},
   "source": [
    "#### Computing Custom Prompt based metrics in AzureML SDK\n",
    "\n",
    "This sample notebook demonstrates how to compute custom prompt based metrics in AzureML SDK. The notebook demonstrates the following steps:\n",
    "\n",
    "<pre>\n",
    "1) Define the custom prompt template\n",
    "2) Initialize the custom prompt metric parameters\n",
    "3) Compute the custom prompt based metrics and get the results\n",
    "</pre>\n",
    "\n",
    "#### Prerequisites\n",
    "\n",
    "1) Please install the latest version of azureml-metrics package (text based requirements) using the following command:\n",
    "\n",
    "``` $ pip install --upgrade azureml-metrics[text] ```\n",
    "\n",
    "For more details on azureml-metrics package, please refer to the following link: https://aka.ms/azureml-metrics-quick-start"
   ]
  },
  {
   "cell_type": "markdown",
   "metadata": {},
   "source": [
    "##### 1) Define the custom prompt template\n",
    "\n",
    "<pre>\n",
    "a) Retrieve the existing prompt template for any in-built metric using list_prompts API.\n",
    "b) Modify the prompt template as per our requirement.\n",
    "</pre>"
   ]
  },
  {
   "cell_type": "code",
   "execution_count": 12,
   "metadata": {},
   "outputs": [
    {
     "name": "stdout",
     "output_type": "stream",
     "text": [
      "Coherence of an answer is measured by how well all the sentences fit together and sound naturally as a whole. Consider the overall quality of the answer when evaluating coherence. Given the question and answer, score the coherence of answer between one to five stars using the following rating scale:\n",
      "One star: the answer completely lacks coherence\n",
      "Two stars: the answer mostly lacks coherence\n",
      "Three stars: the answer is partially coherent\n",
      "Four stars: the answer is mostly coherent\n",
      "Five stars: the answer has perfect coherency\n",
      "\n",
      "This rating value should always be an integer between 1 and 5. So the rating produced should be 1 or 2 or 3 or 4 or 5.\n",
      "\n",
      "question: What is your favorite indoor activity and why do you enjoy it?\n",
      "answer: I like pizza. The sun is shining.\n",
      "stars: 1\n",
      "\n",
      "question: Can you describe your favorite movie without giving away any spoilers?\n",
      "answer: It is a science fiction movie. There are dinosaurs. The actors eat cake. People must stop the villain.\n",
      "stars: 2\n",
      "\n",
      "question: What are some benefits of regular exercise?\n",
      "answer: Regular exercise improves your mood. A good workout also helps you sleep better. Trees are green.\n",
      "stars: 3\n",
      "\n",
      "question: How do you cope with stress in your daily life?\n",
      "answer: I usually go for a walk to clear my head. Listening to music helps me relax as well. Stress is a part of life, but we can manage it through some activities.\n",
      "stars: 4\n",
      "\n",
      "question: What can you tell me about climate change and its effects on the environment?\n",
      "answer: Climate change has far-reaching effects on the environment. Rising temperatures result in the melting of polar ice caps, contributing to sea-level rise. Additionally, more frequent and severe weather events, such as hurricanes and heatwaves, can cause disruption to ecosystems and human societies alike.\n",
      "stars: 5\n",
      "\n",
      "question: \n",
      "answer: \n",
      "stars:\n"
     ]
    }
   ],
   "source": [
    "# a) Retrieve the existing prompt template for gpt_coherence metric.\n",
    "from azureml.metrics import list_prompts, constants\n",
    "\n",
    "coherence_prompt = list_prompts(task_type=constants.Tasks.QUESTION_ANSWERING,\n",
    "                                metric=\"gpt_coherence\")\n",
    "print(coherence_prompt)"
   ]
  },
  {
   "cell_type": "code",
   "execution_count": 13,
   "metadata": {},
   "outputs": [
    {
     "name": "stdout",
     "output_type": "stream",
     "text": [
      "Coherence of an answer is measured by how well all the sentences fit together and sound naturally as a whole. Consider the overall quality of the answer when evaluating coherence. Given the question and answer, score the coherence of answer between one to five stars using the following rating scale:\n",
      "One star: the answer completely lacks coherence\n",
      "Two stars: the answer mostly lacks coherence\n",
      "Three stars: the answer is partially coherent\n",
      "Four stars: the answer is mostly coherent\n",
      "Five stars: the answer has perfect coherency\n",
      "\n",
      "This rating value should always be an integer between 1 and 5. So the rating produced should be 1 or 2 or 3 or 4 or 5.\n",
      "\n",
      "question: What is your favorite indoor activity and why do you enjoy it?\n",
      "answer: I like pizza. The sun is shining.\n",
      "stars: 1\n",
      "\n",
      "question: Can you describe your favorite movie without giving away any spoilers?\n",
      "answer: It is a science fiction movie. There are dinosaurs. The actors eat cake. People must stop the villain.\n",
      "stars: 2\n",
      "\n",
      "question: What are some benefits of regular exercise?\n",
      "answer: Regular exercise improves your mood. A good workout also helps you sleep better. Trees are green.\n",
      "stars: 3\n",
      "\n",
      "question: How do you cope with stress in your daily life?\n",
      "answer: I usually go for a walk to clear my head. Listening to music helps me relax as well. Stress is a part of life, but we can manage it through some activities.\n",
      "stars: 4\n",
      "\n",
      "question: What can you tell me about climate change and its effects on the environment?\n",
      "answer: Climate change has far-reaching effects on the environment. Rising temperatures result in the melting of polar ice caps, contributing to sea-level rise. Additionally, more frequent and severe weather events, such as hurricanes and heatwaves, can cause disruption to ecosystems and human societies alike.\n",
      "stars: 5\n",
      "\n",
      "question: {{question}}\n",
      "answer: {{prediction}}\n",
      "stars:\n"
     ]
    }
   ],
   "source": [
    "# b) Modify the existing prompt template for gpt_coherence metric based on our requirements.\n",
    "custom_coherence_prompt = 'Coherence of an answer is measured by how well all the sentences fit together and sound naturally as a whole. Consider the overall quality of the answer when evaluating coherence. Given the question and answer, score the coherence of answer between one to five stars using the following rating scale:\\nOne star: the answer completely lacks coherence\\nTwo stars: the answer mostly lacks coherence\\nThree stars: the answer is partially coherent\\nFour stars: the answer is mostly coherent\\nFive stars: the answer has perfect coherency\\n\\nThis rating value should always be an integer between 1 and 5. So the rating produced should be 1 or 2 or 3 or 4 or 5.\\n\\nquestion: What is your favorite indoor activity and why do you enjoy it?\\nanswer: I like pizza. The sun is shining.\\nstars: 1\\n\\nquestion: Can you describe your favorite movie without giving away any spoilers?\\nanswer: It is a science fiction movie. There are dinosaurs. The actors eat cake. People must stop the villain.\\nstars: 2\\n\\nquestion: What are some benefits of regular exercise?\\nanswer: Regular exercise improves your mood. A good workout also helps you sleep better. Trees are green.\\nstars: 3\\n\\nquestion: How do you cope with stress in your daily life?\\nanswer: I usually go for a walk to clear my head. Listening to music helps me relax as well. Stress is a part of life, but we can manage it through some activities.\\nstars: 4\\n\\nquestion: What can you tell me about climate change and its effects on the environment?\\nanswer: Climate change has far-reaching effects on the environment. Rising temperatures result in the melting of polar ice caps, contributing to sea-level rise. Additionally, more frequent and severe weather events, such as hurricanes and heatwaves, can cause disruption to ecosystems and human societies alike.\\nstars: 5\\n\\nquestion: {{question}}\\nanswer: {{prediction}}\\nstars:'\n",
    "print(custom_coherence_prompt)"
   ]
  },
  {
   "cell_type": "markdown",
   "metadata": {},
   "source": [
    "##### 2) Initialize the custom prompt metric parameters"
   ]
  },
  {
   "cell_type": "code",
   "execution_count": 14,
   "metadata": {},
   "outputs": [],
   "source": [
    "import os\n",
    "\n",
    "context = \"In 2018, a group of scientists discovered a new type of deep-sea fish that has a transparent head. The fish, named Barreleye, has tubular eyes that can rotate to look either upward or forward, allowing it to see potential prey and predators in the dark depths of the ocean.\"\n",
    "question = \"What is the name of the deep-sea fish discovered by scientists in 2018, and what is unique about its head?\"\n",
    "coherent_answer = \"The deep-sea fish discovered by scientists in 2018 is called Barreleye, and it has a transparent head. The fish has tubular eyes that can rotate to look either upward or forward, allowing it to see potential prey and predators in the dark depths of the ocean.\"\n",
    "incoherent_answer = \"The scientists who made the discovery in 2018 were actually studying coral reefs, not deep-sea fish. However, they did come across an unusual creature that they couldn't identify. It turned out to be a type of sea cucumber that has a strange, tube-like shape.\"\n",
    "\n",
    "# Note: Please replace the values for the following variables with your own values.\n",
    "openai_params = {\n",
    "    \"api_version\" : os.environ[\"OPENAI_API_VERSION\"],\n",
    "    \"api_base\" : os.environ[\"OPENAI_API_BASE\"],\n",
    "    \"api_type\" : os.environ[\"OPENAI_API_TYPE\"],\n",
    "    \"api_key\" : os.environ[\"OPENAI_API_KEY\"],\n",
    "    \"deployment_id\" : \"<deployment_name>\"\n",
    "}\n",
    "\n",
    "metric_name = \"custom_coherence\"\n",
    "metric_description = \"Computing custom coherence prompt based metric\"\n",
    "user_prompt_template = custom_coherence_prompt\n",
    "input_vars = [\"question\", \"prediction\"]\n",
    "question_list = [question, question]\n",
    "prediction_list = [coherent_answer, incoherent_answer]\n",
    "openai_params = openai_params\n",
    "\n",
    "custom_prompt_config = {\n",
    "    \"input_vars\" : input_vars,\n",
    "    \"openai_params\" : openai_params,\n",
    "    \"metric_name\" : metric_name,\n",
    "    \"metric_description\" : metric_description,\n",
    "    \"user_prompt_template\" : user_prompt_template,\n",
    "}"
   ]
  },
  {
   "cell_type": "markdown",
   "metadata": {},
   "source": [
    "##### 3) Compute the custom prompt based metrics and get the results"
   ]
  },
  {
   "cell_type": "code",
   "execution_count": 15,
   "metadata": {},
   "outputs": [
    {
     "name": "stderr",
     "output_type": "stream",
     "text": [
      "  0%|          | 0/2 [00:00<?, ?it/s]100%|██████████| 2/2 [00:01<00:00,  1.67it/s]"
     ]
    },
    {
     "name": "stdout",
     "output_type": "stream",
     "text": [
      "('Custom Coherence Result : \\n'\n",
      " \"{'metrics': {'mean_custom_coherence': 4.0, 'median_custom_coherence': 4.0}, \"\n",
      " \"'artifacts': {'custom_coherence': ['5', '3']}}\")\n",
      "\n",
      "\n",
      "------------------------------------------------------------\n",
      "Custom Coherence Metric Details\n",
      "------------------------------------------------------------\n",
      "{'custom_metric_computation_status': 'SUCCESS',\n",
      " 'custom_metric_description': 'Computing custom coherence prompt based metric',\n",
      " 'custom_metric_name': 'custom_coherence',\n",
      " 'custom_metric_results': {'artifacts': {'custom_coherence': ['5', '3']},\n",
      "                           'metrics': {'mean_custom_coherence': 4.0,\n",
      "                                       'median_custom_coherence': 4.0}}}\n"
     ]
    },
    {
     "name": "stderr",
     "output_type": "stream",
     "text": [
      "\n"
     ]
    }
   ],
   "source": [
    "from pprint import pprint\n",
    "from azureml.metrics import AzureMLCustomPromptMetric\n",
    "\n",
    "custom_coherence_metric = AzureMLCustomPromptMetric(**custom_prompt_config)\n",
    "result = custom_coherence_metric.compute(question=question_list,\n",
    "                                         prediction=prediction_list)\n",
    "pprint(\"Custom Coherence Result : \\n\" + str(result))\n",
    "print(\"\\n\")\n",
    "print(\"-\"*60, \"Custom Coherence Metric Details\", \"-\"*60, sep=\"\\n\")\n",
    "pprint(custom_coherence_metric.get_custom_metric_details())"
   ]
  },
  {
   "cell_type": "code",
   "execution_count": null,
   "metadata": {},
   "outputs": [],
   "source": []
  }
 ],
 "metadata": {
  "kernelspec": {
   "display_name": "Python (azure_automl)",
   "language": "python",
   "name": "azure_automl"
  },
  "language_info": {
   "codemirror_mode": {
    "name": "ipython",
    "version": 3
   },
   "file_extension": ".py",
   "mimetype": "text/x-python",
   "name": "python",
   "nbconvert_exporter": "python",
   "pygments_lexer": "ipython3",
   "version": "3.8.13"
  }
 },
 "nbformat": 4,
 "nbformat_minor": 2
}
