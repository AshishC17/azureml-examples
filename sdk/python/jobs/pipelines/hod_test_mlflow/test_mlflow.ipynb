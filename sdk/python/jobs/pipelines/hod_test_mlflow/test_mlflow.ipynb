{
 "cells": [
  {
   "cell_type": "code",
   "execution_count": 1,
   "metadata": {},
   "outputs": [
    {
     "name": "stdout",
     "output_type": "stream",
     "text": [
      "azureml://eastus.api.azureml.ms/mlflow/v1.0/subscriptions/96aede12-2f73-41cb-b983-6d11a904839b/resourceGroups/hod-rg/providers/Microsoft.MachineLearningServices/workspaces/hod-pflow\n",
      "https://eastus.api.azureml.ms/index/v1.0/subscriptions/96aede12-2f73-41cb-b983-6d11a904839b/resourceGroups/hod-rg/providers/Microsoft.MachineLearningServices/workspaces/hod-pflow\n"
     ]
    }
   ],
   "source": [
    "import mlflow\n",
    "from azure.ai.ml import MLClient\n",
    "from azure.identity import DefaultAzureCredential\n",
    "from datetime import datetime\n",
    "\n",
    "from mlflow.tracking import MlflowClient\n",
    "from mlflow.utils.rest_utils import http_request\n",
    "import uuid\n",
    "\n",
    "# subscription_id = '96aede12-2f73-41cb-b983-6d11a904839b'\n",
    "# resource_group = 'promptflow'\n",
    "# workspace_name = 'promptflow-canary-dev'\n",
    "\n",
    "subscription_id = '96aede12-2f73-41cb-b983-6d11a904839b'\n",
    "resource_group = 'hod-rg'\n",
    "workspace_name = 'hod-pflow'\n",
    "\n",
    "ml_client = MLClient(credential=DefaultAzureCredential(),\n",
    "                        subscription_id=subscription_id,\n",
    "                        resource_group_name=resource_group,\n",
    "                        workspace_name=workspace_name)\n",
    "\n",
    "mlflow_tracking_uri = ml_client.workspaces.get(ml_client.workspace_name).mlflow_tracking_uri\n",
    "print(mlflow_tracking_uri)\n",
    "mlflow.set_tracking_uri(mlflow_tracking_uri)\n",
    "\n",
    "# update the cred host for api call\n",
    "client = MlflowClient()\n",
    "cred = client._tracking_client.store.get_host_creds()\n",
    "# cred.host = cred.host.replace(\"mlflow/v2.0\", \"mlflow/v1.0\").replace(\"mlflow/v1.0\", \"history/v1.0\")\n",
    "cred.host = cred.host.replace(\"mlflow/v2.0\", \"mlflow/v1.0\").replace(\"mlflow/v1.0\", \"index/v1.0\")\n",
    "print(cred.host)"
   ]
  },
  {
   "cell_type": "code",
   "execution_count": null,
   "metadata": {},
   "outputs": [],
   "source": [
    "run = mlflow.start_run()\n",
    "print(run.info.run_id)"
   ]
  },
  {
   "cell_type": "code",
   "execution_count": null,
   "metadata": {},
   "outputs": [],
   "source": [
    "credential=DefaultAzureCredential()\n",
    "credential.get_token(\"https://management.azure.com/.default\").token"
   ]
  },
  {
   "cell_type": "code",
   "execution_count": null,
   "metadata": {},
   "outputs": [],
   "source": [
    "runs = mlflow.search_runs(max_results=50, output_format=\"list\", order_by=[\"start_time DESC\"])"
   ]
  },
  {
   "cell_type": "code",
   "execution_count": null,
   "metadata": {},
   "outputs": [],
   "source": [
    "for run in runs[0:10]:\n",
    "    # print(f\"{run.info.run_id} {run.info.status} {run.info.start_time} {run.info.end_time}\")\n",
    "    print(run.to_dictionary())"
   ]
  },
  {
   "cell_type": "code",
   "execution_count": null,
   "metadata": {},
   "outputs": [],
   "source": [
    "a = ml_client.jobs._runs_operations.get_run(run_id=\"f9f19743-f9bd-4046-9074-35241f9286a9\")\n",
    "print(a)"
   ]
  },
  {
   "cell_type": "code",
   "execution_count": null,
   "metadata": {},
   "outputs": [],
   "source": [
    "run = mlflow.get_run(run_id=\"run_20230524162058_3b2d8cb0-1b57-498e-8f1a-aff518897bb0_variant_2\")\n",
    "print(run.to_dictionary())"
   ]
  },
  {
   "cell_type": "code",
   "execution_count": null,
   "metadata": {},
   "outputs": [],
   "source": [
    "run = mlflow.active_run()\n",
    "print(run.info.run_id)"
   ]
  },
  {
   "cell_type": "code",
   "execution_count": null,
   "metadata": {},
   "outputs": [],
   "source": [
    "\n",
    "from enum import Enum\n",
    "class Status(Enum):\n",
    "    Started = \"Started\"\n",
    "    Completed = \"Completed\"\n",
    "    Failed = \"Failed\"\n",
    "    Cancelled = \"Cancelled\"\n",
    "    NOTSTARTED = 'NotStarted'\n",
    "\n",
    "    @staticmethod\n",
    "    def is_terminated(status):\n",
    "        return status in {Status.Completed, Status.Failed, Status.Cancelled}\n",
    "    \n",
    "    \n",
    "print(Status.is_terminated(Status.Completed))"
   ]
  },
  {
   "cell_type": "code",
   "execution_count": null,
   "metadata": {},
   "outputs": [],
   "source": [
    "class AzureMLConfig:\n",
    "    SUBSCRIPTION_ID = \"SUBSCRIPTION_ID\"\n",
    "    RESOURCE_GROUP_NAME = \"RESOURCE_GROUP_NAME\"\n",
    "    WORKSPACE_NAME = \"WORKSPACE_NAME\"\n",
    "    WORKSPACE_REGION = \"WORKSPACE_REGION\"\n",
    "    \n",
    "    @staticmethod\n",
    "    def test():\n",
    "        print(\"test\")\n",
    "\n",
    "class hod(AzureMLConfig):\n",
    "    a = 1\n",
    "\n",
    "hod.test()"
   ]
  },
  {
   "attachments": {},
   "cell_type": "markdown",
   "metadata": {},
   "source": [
    "## Create a run with NotStarted status"
   ]
  },
  {
   "cell_type": "code",
   "execution_count": null,
   "metadata": {},
   "outputs": [],
   "source": [
    "run_id = str(uuid.uuid4())\n",
    "print(f\"New run id: {run_id}\")\n",
    "\n",
    "response = http_request(\n",
    "    host_creds=cred,\n",
    "    endpoint=\"/experiments/{}/runs/{}\".format(\"promptflow\", run_id),\n",
    "    method=\"PATCH\",\n",
    "    json={\"runId\": run_id},\n",
    ")\n",
    "if response.status_code == 200:\n",
    "    print(f\"Successfully created a run with run id '{run_id}'\")\n",
    "else:\n",
    "    raise\n"
   ]
  },
  {
   "attachments": {},
   "cell_type": "markdown",
   "metadata": {},
   "source": [
    "## Update run status with API call"
   ]
  },
  {
   "cell_type": "code",
   "execution_count": null,
   "metadata": {},
   "outputs": [],
   "source": [
    "run_id = \"f172595d-9b91-46b4-90cf-0fca214a6907\"\n",
    "mlflow_run = mlflow.get_run(run_id=run_id)\n",
    "experiment_id = mlflow_run.info.experiment_id\n",
    "\n",
    "status_event = {\n",
    "    \"timestamp\": datetime.utcnow().isoformat(),\n",
    "    \"name\": \"Microsoft.MachineLearning.Run.Start\",\n",
    "    \"data\": {\n",
    "        \"startTime\": datetime.utcnow().isoformat(),\n",
    "    },\n",
    "}\n",
    "\n",
    "response = http_request(\n",
    "    host_creds=cred,\n",
    "    endpoint=\"/experimentids/{}/runs/{}/events\".format(experiment_id, run_id),\n",
    "    method=\"POST\",\n",
    "    json=status_event,\n",
    ")\n",
    "\n",
    "if response.status_code == 200:\n",
    "    print(f\"Successfully update run status to 'Running' for run {run_id!r}.\")\n",
    "else:\n",
    "    print(\n",
    "        f\"Failed to update run status to 'Running' for run {run_id!r}. \"\n",
    "        f\"Code: {response.status_code}, text: {response.text}\"\n",
    "    )"
   ]
  },
  {
   "attachments": {},
   "cell_type": "markdown",
   "metadata": {},
   "source": [
    "## Cancel an active run"
   ]
  },
  {
   "cell_type": "code",
   "execution_count": null,
   "metadata": {},
   "outputs": [],
   "source": [
    "\n",
    "current_run = mlflow.active_run()\n",
    "run_id = current_run.info.run_id\n",
    "experiment_id = current_run.info.experiment_id\n",
    "\n",
    "end_event = {\n",
    "    \"timestamp\": datetime.utcnow().isoformat(),\n",
    "    \"name\": \"Microsoft.MachineLearning.Run.Canceled\",\n",
    "    \"data\": {\n",
    "        \"endtime\": datetime.utcnow().isoformat(),\n",
    "    },\n",
    "}\n",
    "response = http_request(\n",
    "    host_creds=cred,\n",
    "    endpoint=\"/experimentids/{}/runs/{}/events\".format(experiment_id, run_id),\n",
    "    method=\"POST\",\n",
    "    json=end_event,\n",
    ")\n",
    "\n",
    "if response.status_code == 200:\n",
    "    print(f\"Successfully canceled a run with run id '{run_id}'\")\n",
    "else:\n",
    "    print(f\"Code: {response.status_code}, text: {response.text}\")"
   ]
  },
  {
   "attachments": {},
   "cell_type": "markdown",
   "metadata": {},
   "source": [
    "## Write error message"
   ]
  },
  {
   "cell_type": "code",
   "execution_count": null,
   "metadata": {},
   "outputs": [],
   "source": [
    "from datetime import datetime\n",
    "# run = mlflow.start_run()\n",
    "# print(run.info.run_id)\n",
    "\n",
    "# current_run = mlflow.active_run()\n",
    "# run_id = current_run.info.run_id\n",
    "# experiment_id = current_run.info.experiment_id\n",
    "\n",
    "error_event = {\n",
    "    \"timestamp\": datetime.utcnow().isoformat(),\n",
    "    \"name\": \"Microsoft.MachineLearning.Run.Error\",\n",
    "    \"data\": {\n",
    "        \"errorResponse\":{\n",
    "            \"error\": {\n",
    "                \"code\": \"UserError\",\n",
    "                \"message\": \"test hod error\",\n",
    "            },\n",
    "            \"componentName\": \"promptflow\"\n",
    "        },\n",
    "    },\n",
    "}\n",
    "response = http_request(\n",
    "    host_creds=cred,\n",
    "    endpoint=\"/experimentids/{}/runs/{}/events\".format(experiment_id, run_id),\n",
    "    method=\"POST\",\n",
    "    json=error_event,\n",
    ")\n",
    "\n",
    "if response.status_code == 200:\n",
    "    print(f\"Successfully write error message with run id '{run_id}'\")\n",
    "else:\n",
    "    print(f\"Code: {response.status_code}, text: {response.text}\")"
   ]
  },
  {
   "attachments": {},
   "cell_type": "markdown",
   "metadata": {},
   "source": [
    "## Write run properties"
   ]
  },
  {
   "cell_type": "code",
   "execution_count": null,
   "metadata": {},
   "outputs": [],
   "source": [
    "run = mlflow.start_run()\n",
    "print(run.info.run_id)\n",
    "\n",
    "current_run = mlflow.active_run()\n",
    "run_id = current_run.info.run_id\n",
    "experiment_id = current_run.info.experiment_id\n",
    "\n",
    "properties = {\n",
    "    \"hod-test-property\": \"123\"\n",
    "}\n",
    "\n",
    "response = http_request(\n",
    "    host_creds=cred,\n",
    "    endpoint=\"/experimentids/{}/runs/{}\".format(experiment_id, run_id),\n",
    "    method=\"PATCH\",\n",
    "    json={\"runId\": run_id, \"properties\": properties},\n",
    ")\n",
    "\n",
    "if response.status_code == 200:\n",
    "    print(f\"Successfully write run properties with run id '{run_id}'\")\n",
    "else:\n",
    "    print(f\"Code: {response.status_code}, text: {response.text}\")"
   ]
  },
  {
   "attachments": {},
   "cell_type": "markdown",
   "metadata": {},
   "source": [
    "## List runs from index service"
   ]
  },
  {
   "cell_type": "code",
   "execution_count": null,
   "metadata": {},
   "outputs": [],
   "source": [
    "import importlib  \n",
    "importlib.reload(mlflow) \n",
    "\n",
    "pay_load = {\n",
    "\t\"filters\": [{\n",
    "\t\t\t\"field\": \"type\",\n",
    "\t\t\t\"operator\": \"eq\",\n",
    "\t\t\t\"values\": [\"runs\"]\n",
    "\t\t}, {\n",
    "\t\t\t\"field\": \"annotations/archived\",\n",
    "\t\t\t\"operator\": \"eq\",\n",
    "\t\t\t\"values\": [\"true\"]\n",
    "\t\t},\n",
    "        {\n",
    "\t\t\t\"field\": \"properties/runType\",\n",
    "            \"operator\": \"contains\",\n",
    "            \"values\": [\"azureml.promptflow.FlowRun\", \"azureml.promptflow.EvaluationRun\"]\n",
    "\t\t}\n",
    "\t],\n",
    "\t\"freeTextSearch\": \"\",\n",
    "\t\"order\": [{\n",
    "\t\t\t\"direction\": \"Desc\",\n",
    "\t\t\t\"field\": \"properties/creationContext/createdTime\"\n",
    "\t\t}\n",
    "\t],\n",
    "\t\"pageSize\": 50,\n",
    "\t\"skip\": 0,\n",
    "\t\"includeTotalResultCount\": True,\n",
    "\t\"searchBuilder\": \"AppendPrefix\"\n",
    "}\n",
    "\n",
    "response = http_request(\n",
    "    host_creds=cred,\n",
    "    endpoint=\"/entities\",\n",
    "    method=\"POST\",\n",
    "    json=pay_load,\n",
    ")\n",
    "\n",
    "if response.status_code == 200:\n",
    "    print(f\"Successfully list runs from index service\")\n",
    "else:\n",
    "    print(f\"Code: {response.status_code}, text: {response.text}\")"
   ]
  },
  {
   "cell_type": "code",
   "execution_count": null,
   "metadata": {},
   "outputs": [],
   "source": [
    "import json\n",
    "res = json.loads(response.text)\n",
    "\n",
    "print(f\"totalCount: {res['totalCount']}\")\n",
    "print(f\"Length of value: {len(res['value'])}\")\n",
    "print(f\"nextSkip: {res['nextSkip']}\")\n",
    "\n",
    "with open(\"./entities_archived.json\", \"w\") as f:\n",
    "    json.dump(res, f)\n"
   ]
  },
  {
   "cell_type": "code",
   "execution_count": null,
   "metadata": {},
   "outputs": [],
   "source": [
    "credential=DefaultAzureCredential()\n",
    "token = credential.get_token(\"https://management.azure.com/.default\").token\n",
    "print(token)"
   ]
  },
  {
   "cell_type": "code",
   "execution_count": null,
   "metadata": {},
   "outputs": [],
   "source": [
    "import urllib3\n",
    "import json\n",
    "\n",
    "http = urllib3.PoolManager() \n",
    "url = \"https://eastus2euap.api.azureml.ms/index/v1.0/subscriptions/96aede12-2f73-41cb-b983-6d11a904839b/resourceGroups/promptflow/providers/Microsoft.MachineLearningServices/workspaces/promptflow-canary-dev/entities\"\n",
    "\n",
    "payload = {\n",
    "\t\"filters\": [{\n",
    "\t\t\t\"field\": \"type\",\n",
    "\t\t\t\"operator\": \"eq\",\n",
    "\t\t\t\"values\": [\"runs\"]\n",
    "\t\t}, {\n",
    "\t\t\t\"field\": \"annotations/archived\",\n",
    "\t\t\t\"operator\": \"eq\",\n",
    "\t\t\t\"values\": [\"false\"]\n",
    "\t\t},\n",
    "        {\n",
    "\t\t\t\"field\": \"properties/runType\",\n",
    "            \"operator\": \"contains\",\n",
    "            \"values\": [\"azureml.promptflow.FlowRun\", \"azureml.promptflow.EvaluationRun\"]\n",
    "\t\t}\n",
    "\t],\n",
    "\t\"freeTextSearch\": \"\",\n",
    "\t\"order\": [{\n",
    "\t\t\t\"direction\": \"Desc\",\n",
    "\t\t\t\"field\": \"properties/creationContext/createdTime\"\n",
    "\t\t}\n",
    "\t],\n",
    "\t\"pageSize\": 50,\n",
    "\t\"skip\": 0,\n",
    "\t\"includeTotalResultCount\": True,\n",
    "\t\"searchBuilder\": \"AppendPrefix\"\n",
    "}\n",
    "payload = json.dumps(payload).encode('utf-8')\n",
    "\n",
    "headers = {  \n",
    "    'Authorization': f'Bearer {token}',\n",
    "    'Content-Type': 'application/json',\n",
    "} \n",
    "\n",
    "response = http.request(\"POST\", url, body=payload, headers=headers)\n",
    "\n",
    "if response.status == 200:\n",
    "    print(f\"Successfully list runs from index service\")\n",
    "else:\n",
    "    print(f\"Code: {response.status}, Reason: {response.reason}\")"
   ]
  },
  {
   "cell_type": "code",
   "execution_count": null,
   "metadata": {},
   "outputs": [],
   "source": [
    "import requests\n",
    "import json\n",
    "\n",
    "session = requests.Session()  \n",
    "url = \"https://eastus2euap.api.azureml.ms/index/v1.0/subscriptions/96aede12-2f73-41cb-b983-6d11a904839b/resourceGroups/promptflow/providers/Microsoft.MachineLearningServices/workspaces/promptflow-canary-dev/entities\"\n",
    "\n",
    "headers = {  \n",
    "    'Authorization': f'Bearer {token}',\n",
    "    'Content-Type': 'application/json',\n",
    "} \n",
    "session.headers.update(headers)\n",
    "\n",
    "payload = {\n",
    "\t\"filters\": [{\n",
    "\t\t\t\"field\": \"type\",\n",
    "\t\t\t\"operator\": \"eq\",\n",
    "\t\t\t\"values\": [\"runs\"]\n",
    "\t\t}, {\n",
    "\t\t\t\"field\": \"annotations/archived\",\n",
    "\t\t\t\"operator\": \"eq\",\n",
    "\t\t\t\"values\": [\"false\"]\n",
    "\t\t},\n",
    "        {\n",
    "\t\t\t\"field\": \"properties/runType\",\n",
    "            \"operator\": \"contains\",\n",
    "            \"values\": [\"azureml.promptflow.FlowRun\", \"azureml.promptflow.EvaluationRun\"]\n",
    "\t\t}\n",
    "\t],\n",
    "\t\"freeTextSearch\": \"\",\n",
    "\t\"order\": [{\n",
    "\t\t\t\"direction\": \"Desc\",\n",
    "\t\t\t\"field\": \"properties/creationContext/createdTime\"\n",
    "\t\t}\n",
    "\t],\n",
    "\t\"pageSize\": 50,\n",
    "\t\"skip\": 0,\n",
    "\t\"includeTotalResultCount\": True,\n",
    "\t\"searchBuilder\": \"AppendPrefix\"\n",
    "}\n",
    "# payload = json.dumps(payload).encode('utf-8')\n",
    "\n",
    "response = session.post(url, json=payload)\n",
    "\n",
    "if response.status_code == 200:\n",
    "    print(f\"Successfully list runs from index service\")\n",
    "else:\n",
    "    print(f\"Code: {response.status_code}, Reason: {response.text}\")"
   ]
  },
  {
   "cell_type": "code",
   "execution_count": null,
   "metadata": {},
   "outputs": [],
   "source": [
    "# print(response.data.decode('utf-8'))\n",
    "import json\n",
    "res = json.loads(response.content)\n",
    "\n",
    "print(f\"totalCount: {res['totalCount']}\")\n",
    "print(f\"Length of value: {len(res['value'])}\")\n",
    "print(f\"nextSkip: {res['nextSkip']}\")\n",
    "\n",
    "with open(\"./entities_1.json\", \"w\") as f:\n",
    "    json.dump(response.json(), f)"
   ]
  },
  {
   "cell_type": "code",
   "execution_count": null,
   "metadata": {},
   "outputs": [],
   "source": [
    "a = [1,2,3]\n",
    "print(a[0:0])"
   ]
  },
  {
   "cell_type": "code",
   "execution_count": null,
   "metadata": {},
   "outputs": [],
   "source": [
    "print(ml_client.registry_name)"
   ]
  },
  {
   "cell_type": "code",
   "execution_count": 1,
   "metadata": {},
   "outputs": [],
   "source": [
    "from azure.identity import DefaultAzureCredential\n",
    "from azureml.core import Workspace"
   ]
  },
  {
   "cell_type": "code",
   "execution_count": 5,
   "metadata": {},
   "outputs": [
    {
     "name": "stdout",
     "output_type": "stream",
     "text": [
      "Workspace.create(name='promptflow-eastus', subscription_id='96aede12-2f73-41cb-b983-6d11a904839b', resource_group='promptflow')\n"
     ]
    }
   ],
   "source": [
    "def _get_service_client(self, client_class, subscription_id):\n",
    "        from azureml._vendor.azure_cli_core.auth.old_adal_authentication import AdalAuthentication\n",
    "        # if is_graph_auth:\n",
    "        #     token = self._get_graph_token()\n",
    "        # else:\n",
    "        #     token = self.get_authentication_header()[\"Authorization\"].split(\" \")[1]\n",
    "        # token_expiry = {\"expires_on\": int(_get_exp_time(token))}\n",
    "        \n",
    "        token_expiry = None\n",
    "        token = self.get_token(\"https://management.azure.com/.default\").token\n",
    "        adal_auth_object = AdalAuthentication(lambda x: (\"Bearer\", token, token_expiry))\n",
    "        client = client_class(adal_auth_object, str(subscription_id), base_url=None)\n",
    "        return client\n",
    "\n",
    "DefaultAzureCredential._get_service_client = _get_service_client\n",
    "credential=DefaultAzureCredential()\n",
    "\n",
    "\n",
    "ws = Workspace(\n",
    "    subscription_id=\"96aede12-2f73-41cb-b983-6d11a904839b\",\n",
    "    resource_group=\"promptflow\",\n",
    "    workspace_name=\"promptflow-eastus\",\n",
    "    auth=credential,\n",
    ")\n",
    "print(ws)\n"
   ]
  },
  {
   "cell_type": "code",
   "execution_count": 6,
   "metadata": {},
   "outputs": [
    {
     "name": "stdout",
     "output_type": "stream",
     "text": [
      "<azureml.core.keyvault.Keyvault object at 0x0000014D28733670>\n",
      "['__class__', '__delattr__', '__dict__', '__dir__', '__doc__', '__eq__', '__format__', '__ge__', '__getattribute__', '__gt__', '__hash__', '__init__', '__init_subclass__', '__le__', '__lt__', '__module__', '__ne__', '__new__', '__reduce__', '__reduce_ex__', '__repr__', '__setattr__', '__sizeof__', '__str__', '__subclasshook__', '__weakref__', '_client', 'delete_secret', 'delete_secrets', 'get_secret', 'get_secret_content_type', 'get_secrets', 'list_secrets', 'set_secret', 'set_secrets', 'workspace']\n"
     ]
    }
   ],
   "source": [
    "key_vault = ws.get_default_keyvault()\n",
    "print(key_vault)\n",
    "print(dir(key_vault))"
   ]
  },
  {
   "cell_type": "code",
   "execution_count": null,
   "metadata": {},
   "outputs": [],
   "source": []
  }
 ],
 "metadata": {
  "kernelspec": {
   "display_name": "git_sdk",
   "language": "python",
   "name": "python3"
  },
  "language_info": {
   "codemirror_mode": {
    "name": "ipython",
    "version": 3
   },
   "file_extension": ".py",
   "mimetype": "text/x-python",
   "name": "python",
   "nbconvert_exporter": "python",
   "pygments_lexer": "ipython3",
   "version": "3.8.18"
  },
  "orig_nbformat": 4,
  "vscode": {
   "interpreter": {
    "hash": "901590fd2121b297931cb9e45033033448ad2d0581b02ead13ed661d40dac950"
   }
  }
 },
 "nbformat": 4,
 "nbformat_minor": 2
}
