{
 "cells": [
  {
   "cell_type": "code",
<<<<<<< HEAD
   "execution_count": null,
=======
   "execution_count": 6,
>>>>>>> origin/hod/yard
   "metadata": {},
   "outputs": [],
   "source": [
    "# Import required libraries\n",
    "from azure.identity import DefaultAzureCredential\n",
    "credential = DefaultAzureCredential()\n",
    "storage_account_name = \"hodstorage\"\n",
    "from azure.storage.blob import BlobServiceClient, BlobClient, ContainerClient, BlockBlobService\n",
    "blob_account_url = f\"https://{storage_account_name}.blob.core.windows.net\"\n",
    "blob_service_client = BlobServiceClient(blob_account_url, credential=credential)\n",
    "# create container if not existed\n",
    "container_name = \"promptflow\"\n",
    "container = blob_service_client.get_container_client(container_name)\n",
    "if not container.exists():\n",
    "    blob_service_client.create_container(container_name)\n",
    "blob_client = blob_service_client.get_blob_client(container=container_name, blob=\"./test-block/sample_1.json\")\n",
    "with open(file=\"./sample_1.json\", mode=\"rb\") as data:\n",
    "    blob_client.upload_blob(data)"
   ]
  },
  {
   "cell_type": "code",
<<<<<<< HEAD
   "execution_count": null,
   "metadata": {},
   "outputs": [],
=======
   "execution_count": 7,
   "metadata": {},
   "outputs": [
    {
     "name": "stdout",
     "output_type": "stream",
     "text": [
      "sample_0.json\n",
      "test-01/sample_0.json\n",
      "test-01/sample_1.json\n"
     ]
    }
   ],
>>>>>>> origin/hod/yard
   "source": [
    "for blob in container.list_blobs():\n",
    "    print(blob.name)"
   ]
  },
  {
   "cell_type": "code",
<<<<<<< HEAD
   "execution_count": null,
=======
   "execution_count": 10,
>>>>>>> origin/hod/yard
   "metadata": {},
   "outputs": [],
   "source": [
    "blob = container.get_blob_client(\"./test-01/sample_1.json\")\n",
    "local_path = \"./downloaded/downloaded_1.json\"\n",
    "with open(local_path, \"wb\") as file:\n",
    "    file.write(blob.download_blob().readall())"
   ]
  },
  {
   "cell_type": "code",
<<<<<<< HEAD
=======
   "execution_count": 17,
   "metadata": {},
   "outputs": [
    {
     "name": "stdout",
     "output_type": "stream",
     "text": [
      "hod\n"
     ]
    }
   ],
   "source": [
    "class A:\n",
    "    def __init__(self) -> None:\n",
    "        self._hod = \"hod\"\n",
    "\n",
    "    @property\n",
    "    def hod(self):\n",
    "        return self._hod\n",
    "\n",
    "print(getattr(A(), \"hod\", \"None\"))"
   ]
  },
  {
   "cell_type": "code",
>>>>>>> origin/hod/yard
   "execution_count": null,
   "metadata": {},
   "outputs": [],
   "source": []
  }
 ],
 "metadata": {
  "kernelspec": {
   "display_name": "git_sdk",
   "language": "python",
   "name": "python3"
  },
  "language_info": {
   "codemirror_mode": {
    "name": "ipython",
    "version": 3
   },
   "file_extension": ".py",
   "mimetype": "text/x-python",
   "name": "python",
   "nbconvert_exporter": "python",
   "pygments_lexer": "ipython3",
   "version": "3.8.16"
  },
  "orig_nbformat": 4,
  "vscode": {
   "interpreter": {
    "hash": "901590fd2121b297931cb9e45033033448ad2d0581b02ead13ed661d40dac950"
   }
  }
 },
 "nbformat": 4,
 "nbformat_minor": 2
}
