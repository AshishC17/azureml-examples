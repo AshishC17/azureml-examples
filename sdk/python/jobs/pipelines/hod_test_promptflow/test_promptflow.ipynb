{
 "cells": [
  {
   "cell_type": "code",
   "execution_count": 6,
   "metadata": {},
   "outputs": [
    {
     "name": "stdout",
     "output_type": "stream",
     "text": [
      "https://eastus.api.azureml.ms/history/v1.0/subscriptions/96aede12-2f73-41cb-b983-6d11a904839b/resourceGroups/promptflow/providers/Microsoft.MachineLearningServices/workspaces/promptflow-eastus\n"
     ]
    }
   ],
   "source": [
    "import mlflow\n",
    "import requests\n",
    "import json\n",
    "import time\n",
    "from azure.ai.ml import MLClient\n",
    "from azure.identity import DefaultAzureCredential, AzureCliCredential, InteractiveBrowserCredential\n",
    "from datetime import datetime\n",
    "from pathlib import Path\n",
    "\n",
    "from mlflow.tracking import MlflowClient\n",
    "from mlflow.utils.rest_utils import http_request\n",
    "import uuid\n",
    "\n",
    "subscription_id = '96aede12-2f73-41cb-b983-6d11a904839b'\n",
    "resource_group = 'promptflow'\n",
    "workspace_name = 'promptflow-eastus'\n",
    "\n",
    "# subscription_id = '96aede12-2f73-41cb-b983-6d11a904839b'\n",
    "# resource_group = 'yonwa-rg'\n",
    "# workspace_name = 'yonwa-trace-ai-studio'\n",
    "\n",
    "ml_client = MLClient(credential=AzureCliCredential(),\n",
    "                        subscription_id=subscription_id,\n",
    "                        resource_group_name=resource_group,\n",
    "                        workspace_name=workspace_name)\n",
    "\n",
    "base_endpoint = ml_client.workspaces.get(ml_client.workspace_name).discovery_url.replace(\"discovery\", \"\")\n",
    "url = (\n",
    "    f\"history/v1.0\"\n",
    "    f\"/subscriptions/{ml_client.subscription_id}\"\n",
    "    f\"/resourceGroups/{ml_client.resource_group_name}\"\n",
    "    f\"/providers/Microsoft.MachineLearningServices\"\n",
    "    f\"/workspaces/{ml_client.workspace_name}\"\n",
    ")\n",
    "endpoint_url = base_endpoint + url\n",
    "print(endpoint_url)"
   ]
  },
  {
   "cell_type": "code",
   "execution_count": 10,
   "metadata": {},
   "outputs": [],
   "source": [
    "credential=AzureCliCredential()\n",
    "# credential=InteractiveBrowserCredential()\n",
    "token = credential.get_token(\"https://management.azure.com/.default\").token\n",
    "\n",
    "headers = {  \n",
    "    'Authorization': f'Bearer {token}',\n",
    "    'Content-Type': 'application/json',\n",
    "} "
   ]
  },
  {
   "cell_type": "markdown",
   "metadata": {},
   "source": [
    "### Get run from run history"
   ]
  },
  {
   "cell_type": "code",
   "execution_count": 36,
   "metadata": {},
   "outputs": [
    {
     "name": "stdout",
     "output_type": "stream",
     "text": [
      "Successfully get run from run history\n"
     ]
    }
   ],
   "source": [
    "\n",
    "run_id = \"web_classification_variant_0_20240407_191438_307497\"    # eastus\n",
    "# run_id = \"web_classification_default_20230809_163800_975156\"    # hod-pflow\n",
    "url = f\"{endpoint_url}/runs/{run_id}\"\n",
    "\n",
    "response = requests.get(url, headers=headers)\n",
    "\n",
    "if response.status_code == 200:\n",
    "    print(f\"Successfully get run from run history\")\n",
    "    with open(\"./download/rh_batch_run_ai_project.json\", \"w\") as f:\n",
    "        json.dump(response.json(), f, indent=4)\n",
    "else:\n",
    "    print(f\"Code: {response.status_code}, Reason: {response.text}\")"
   ]
  },
  {
   "cell_type": "markdown",
   "metadata": {},
   "source": [
    "### Modify run in run history"
   ]
  },
  {
   "cell_type": "code",
   "execution_count": null,
   "metadata": {},
   "outputs": [],
   "source": [
    "class MyClass:\n",
    "    a = 5\n",
    "\n",
    "# /experimentids/42caf8b8-562b-47f6-b838-0ae2aabb1dc1\n",
    "run_id = \"web_classification_default_20230815_103013_448837\"    # eastus\n",
    "url = f\"{endpoint_url}/runs/{run_id}/modify\"\n",
    "\n",
    "payload = {\n",
    "    # \"runId\": run_id,\n",
    "    \"hidden\": False,\n",
    "    \"tags\": {\n",
    "        \"test_tag\": {\"a\": 123}\n",
    "    },\n",
    "    \"description\": \"\",\n",
    "    \"displayName\": \"hod-run\",\n",
    "}\n",
    "response = requests.patch(url, headers=headers, json=payload)\n",
    "\n",
    "if response.status_code == 200:\n",
    "    print(f\"Successfully updated run.\")\n",
    "    with open(\"./update/rh_batch_run_resp.json\", \"w\") as f:\n",
    "        json.dump(response.json(), f, indent=4)\n",
    "else:\n",
    "    print(f\"Code: {response.status_code}, Reason: {response.text}\")"
   ]
  },
  {
   "cell_type": "markdown",
   "metadata": {},
   "source": [
    "### Get run data from run history"
   ]
  },
  {
   "cell_type": "code",
   "execution_count": 26,
   "metadata": {},
   "outputs": [
    {
     "name": "stdout",
     "output_type": "stream",
     "text": [
      "Code: 404, Reason: {\n",
      "  \"error\": {\n",
      "    \"code\": \"UserError\",\n",
      "    \"severity\": null,\n",
      "    \"message\": \"Run runId=web_classification_variant_0_20240407_190159_783736 was not found\",\n",
      "    \"messageFormat\": \"Run {runId} was not found\",\n",
      "    \"messageParameters\": {\n",
      "      \"runId\": \"runId=web_classification_variant_0_20240407_190159_783736\"\n",
      "    },\n",
      "    \"referenceCode\": null,\n",
      "    \"detailsUri\": null,\n",
      "    \"target\": null,\n",
      "    \"details\": [],\n",
      "    \"innerError\": {\n",
      "      \"code\": \"NotFoundError\",\n",
      "      \"innerError\": null\n",
      "    },\n",
      "    \"debugInfo\": null,\n",
      "    \"additionalInfo\": null\n",
      "  },\n",
      "  \"correlation\": {\n",
      "    \"operation\": \"f682c1a563200cc6241469dff073da61\",\n",
      "    \"request\": \"7a1d82af455620bf\"\n",
      "  },\n",
      "  \"environment\": \"eastus\",\n",
      "  \"location\": \"eastus\",\n",
      "  \"time\": \"2024-04-07T11:04:00.3547779+00:00\",\n",
      "  \"componentName\": \"run-history\",\n",
      "  \"statusCode\": 404\n",
      "}\n"
     ]
    }
   ],
   "source": [
    "\n",
    "run_id = \"web_classification_variant_0_20240407_190159_783736\"    # eastus\n",
    "# run_id = \"web_classification_default_20230809_163800_975156\"    # hod-pflow\n",
    "url = f\"{endpoint_url}/rundata\"\n",
    "\n",
    "payload = {\n",
    "    \"runId\": run_id,\n",
    "    \"selectRunMetadata\": True,\n",
    "    \"selectRunDefinition\": True,\n",
    "    \"selectJobSpecification\": True,\n",
    "}\n",
    "\n",
    "response = requests.post(url, headers=headers, json=payload)\n",
    "\n",
    "if response.status_code == 200:\n",
    "    print(f\"Successfully get run from run history\")\n",
    "    with open(\"./download/rh_batch_run_data_local2cloud.json\", \"w\") as f:\n",
    "        json.dump(response.json(), f, indent=4)\n",
    "else:\n",
    "    print(f\"Code: {response.status_code}, Reason: {response.text}\")"
   ]
  },
  {
   "cell_type": "markdown",
   "metadata": {},
   "source": [
    "### Get run from PFS"
   ]
  },
  {
   "cell_type": "code",
   "execution_count": 3,
   "metadata": {},
   "outputs": [
    {
     "name": "stdout",
     "output_type": "stream",
     "text": [
      "Successfully get child runs from PFS\n"
     ]
    }
   ],
   "source": [
    "run_id = \"6ce7ef3a-44ed-47c6-abe8-f4e760f67a78\"\n",
    "pfs_endpoint_url = endpoint_url.replace(\"history/v1.0\", \"flow/api\")\n",
    "url = f\"{pfs_endpoint_url}/BulkRuns/{run_id}\"\n",
    "\n",
    "response = requests.get(url, headers=headers)\n",
    "\n",
    "if response.status_code == 200:\n",
    "    print(f\"Successfully get runs from PFS\")\n",
    "    with open(\"./pfs_run_info.json\", \"w\") as f:\n",
    "        json.dump(response.json(), f, indent=4)\n",
    "else:\n",
    "    print(f\"Code: {response.status_code}, Reason: {response.text}\")"
   ]
  },
  {
   "cell_type": "markdown",
   "metadata": {},
   "source": [
    "### Get run from index service"
   ]
  },
  {
   "cell_type": "code",
   "execution_count": null,
   "metadata": {},
   "outputs": [],
   "source": [
    "run_id = \"c619f648-c809-4545-9f94-f67b0a680706\"\n",
    "index_endpoint_url = endpoint_url.replace(\"/history\", \"/index\")\n",
    "url = f\"{index_endpoint_url}/entities\"\n",
    "\n",
    "payload = {\n",
    "    \"filters\": [{\n",
    "        \"field\": \"type\",\n",
    "        \"operator\": \"eq\",\n",
    "        \"values\": [\"runs\"]\n",
    "    }, {\n",
    "        \"field\": \"annotations/archived\",\n",
    "        \"operator\": \"eq\",\n",
    "        \"values\": [\"false\"]\n",
    "    },\n",
    "        {\n",
    "            \"field\": \"properties/runId\",\n",
    "            \"operator\": \"eq\",\n",
    "            \"values\": [run_id]\n",
    "        }\n",
    "    ],\n",
    "    \"order\": [{\n",
    "        \"direction\": \"Desc\",\n",
    "        \"field\": \"properties/startTime\"\n",
    "    }\n",
    "    ],\n",
    "    \"pageSize\": 50,\n",
    "}\n",
    "\n",
    "response = requests.post(url, json=payload, headers=headers)\n",
    "\n",
    "if response.status_code == 200:\n",
    "    print(f\"Successfully get run info from index service\")\n",
    "    with open(\"./download/index_batch_run.json\", \"w\") as f:\n",
    "        json.dump(response.json(), f, indent=4)\n",
    "else:\n",
    "    print(f\"Code: {response.status_code}, Reason: {response.text}\")"
   ]
  },
  {
   "cell_type": "markdown",
   "metadata": {},
   "source": [
    "### List runs from index service"
   ]
  },
  {
   "cell_type": "code",
   "execution_count": null,
   "metadata": {},
   "outputs": [],
   "source": [
    "index_endpoint_url = endpoint_url.replace(\"/history\", \"/index\")\n",
    "url = f\"{index_endpoint_url}/entities\"\n",
    "\n",
    "payload = {\n",
    "    \"filters\": [\n",
    "        {\n",
    "            \"field\": \"type\",\n",
    "            \"operator\": \"eq\",\n",
    "            \"values\": [\"runs\"]\n",
    "        },\n",
    "        {\n",
    "            \"field\": \"annotations/archived\",\n",
    "            \"operator\": \"eq\",\n",
    "            \"values\": [\"false\"]\n",
    "        },\n",
    "        {\n",
    "            \"field\": \"properties/runType\",\n",
    "            \"operator\": \"contains\",\n",
    "            \"values\": [\n",
    "                \"azureml.promptflow.FlowRun\",\n",
    "                \"azureml.promptflow.EvaluationRun\",\n",
    "            ]\n",
    "        }\n",
    "    ],\n",
    "    \"freeTextSearch\": \"\",\n",
    "    \"order\": [\n",
    "        {\n",
    "            \"direction\": \"Desc\",\n",
    "            \"field\": \"properties/creationContext/createdTime\"\n",
    "        }\n",
    "    ],\n",
    "    # index service can return 100 results at most\n",
    "    \"pageSize\": 50,\n",
    "    \"skip\": 0,\n",
    "    \"includeTotalResultCount\": True,\n",
    "    \"searchBuilder\": \"AppendPrefix\"\n",
    "}\n",
    "\n",
    "response = requests.post(url, json=payload, headers=headers)\n",
    "\n",
    "if response.status_code == 200:\n",
    "    print(f\"Successfully listed runs from index service\")\n",
    "    with open(\"./list_entities_50.json\", \"w\") as f:\n",
    "        json.dump(response.json(), f, indent=4)\n",
    "else:\n",
    "    print(f\"Code: {response.status_code}, Reason: {response.text}\")"
   ]
  },
  {
   "cell_type": "markdown",
   "metadata": {},
   "source": [
    "### Get metrics from metric service"
   ]
  },
  {
   "cell_type": "code",
   "execution_count": null,
   "metadata": {},
   "outputs": [],
   "source": [
    "run_id = \"groundedness_eval_default_20230821_191944_818788\"\n",
    "index_endpoint_url = endpoint_url.replace(\"/history/v1.0\", \"/metric/v2.0\")\n",
    "url = f\"{index_endpoint_url}/runs/{run_id}/lastvalues\"\n",
    "\n",
    "response = requests.post(url, json={}, headers=headers)\n",
    "\n",
    "if response.status_code == 200:\n",
    "    print(f\"Successfully got metrics from metric service\")\n",
    "    with open(\"./metrics_cle.json\", \"w\") as f:\n",
    "        json.dump(response.json(), f, indent=4)\n",
    "else:\n",
    "    print(f\"Code: {response.status_code}, Reason: {response.text}\")"
   ]
  },
  {
   "cell_type": "markdown",
   "metadata": {},
   "source": [
    "### List flows from index service"
   ]
  },
  {
   "cell_type": "code",
   "execution_count": null,
   "metadata": {},
   "outputs": [],
   "source": [
    "index_endpoint_url = endpoint_url.replace(\"/history\", \"/index\")\n",
    "url = f\"{index_endpoint_url}/entities\"\n",
    "\n",
    "payload = {\n",
    "    \"filters\": [\n",
    "        {\n",
    "            \"field\": \"type\",\n",
    "            \"operator\": \"eq\",\n",
    "            \"values\": [\"flows\"]\n",
    "        },\n",
    "        # {\n",
    "        #     \"field\": \"annotations/archived\",\n",
    "        #     \"operator\": \"eq\",\n",
    "        #     \"values\": [\"true\"]\n",
    "        # },\n",
    "        {\n",
    "            \"field\": \"properties/creationContext/createdBy/userTenantId\",\n",
    "            \"operator\": \"eq\",\n",
    "            \"values\": [\"72f988bf-86f1-41af-91ab-2d7cd011db47\"]\n",
    "        },\n",
    "        {\n",
    "            \"field\": \"properties/creationContext/createdBy/userObjectId\",\n",
    "            \"operator\": \"eq\",\n",
    "            \"values\": [\"c05e0746-e125-4cb3-9213-a8b535eacd79\"]\n",
    "        }\n",
    "    ],\n",
    "    \"freeTextSearch\": \"\",\n",
    "    \"order\": [\n",
    "        {\n",
    "            \"direction\": \"Desc\",\n",
    "            \"field\": \"properties/creationContext/createdTime\"\n",
    "        }\n",
    "    ],\n",
    "    # index service can return 100 results at most\n",
    "    \"pageSize\": 10,\n",
    "    \"skip\": 0,\n",
    "    \"includeTotalResultCount\": True,\n",
    "    \"searchBuilder\": \"AppendPrefix\"\n",
    "}\n",
    "\n",
    "response = requests.post(url, json=payload, headers=headers)\n",
    "\n",
    "if response.status_code == 200:\n",
    "    print(f\"Successfully listed runs from index service\")\n",
    "    with open(\"./flow_list_archived.json\", \"w\") as f:\n",
    "        json.dump(response.json(), f, indent=4)\n",
    "else:\n",
    "    print(f\"Code: {response.status_code}, Reason: {response.text}\")"
   ]
  },
  {
   "cell_type": "markdown",
   "metadata": {},
   "source": [
    "### Get snapshot sas token from content service"
   ]
  },
  {
   "cell_type": "code",
   "execution_count": null,
   "metadata": {},
   "outputs": [],
   "source": [
    "snapshot_id = \"194d5c58-3176-4311-88f0-e01a31a5f706\"\n",
    "index_endpoint_url = endpoint_url.replace(\"/history/v1.0\", \"/content/v2.0\")\n",
    "url = f\"{index_endpoint_url}/snapshots/sas\"\n",
    "\n",
    "payload = {\n",
    "    \"snapshotOrAssetId\": snapshot_id,\n",
    "    # \"path\": \"string\"\n",
    "}\n",
    "\n",
    "response = requests.post(url, json=payload, headers=headers)\n",
    "\n",
    "if response.status_code == 200:\n",
    "    print(f\"Successfully got metrics from metric service\")\n",
    "    with open(\"./download/snapshot_sas_resp.json\", \"w\") as f:\n",
    "        json.dump(response.json(), f, indent=4)\n",
    "else:\n",
    "    print(f\"Code: {response.status_code}, Reason: {response.text}\")"
   ]
  },
  {
   "cell_type": "markdown",
   "metadata": {},
   "source": [
    "### Get merics from metric service"
   ]
  },
  {
   "cell_type": "code",
   "execution_count": 17,
   "metadata": {},
   "outputs": [
    {
     "name": "stdout",
     "output_type": "stream",
     "text": [
      "Successfully get run metrics from metric service\n"
     ]
    }
   ],
   "source": [
    "run_id = \"805dffc1-df00-4722-87f1-3e774188458e\"    # eastus\n",
    "run_id = \"0db9f8df-5f13-4798-93f9-d5157acb0dcb\"\n",
    "index_endpoint_url = endpoint_url.replace(\"/history/v1.0\", \"/metric/v2.0\")\n",
    "url = f\"{index_endpoint_url}/runs/{run_id}/lastvalues\"\n",
    "\n",
    "response = requests.post(url, headers=headers, json={})\n",
    "\n",
    "if response.status_code == 200:\n",
    "    print(f\"Successfully get run metrics from metric service\")\n",
    "    with open(\"./download/run_metrics.json\", \"w\") as f:\n",
    "        json.dump(response.json(), f, indent=4)\n",
    "else:\n",
    "    print(f\"Code: {response.status_code}, Reason: {response.text}\")"
   ]
  },
  {
   "cell_type": "code",
   "execution_count": null,
   "metadata": {},
   "outputs": [],
   "source": [
    "import re\n",
    "\n",
    "OUTPUT_PORTAL_PATTERN = re.compile(r\"azureml://.*?/data/(?P<name>.*?)/versions/(?P<version>.*?)$\")\n",
    "target = 'azureml://locations/eastus/workspaces/3e123da1-f9a5-4c91-9234-8d9ffbb39ff5/data/azureml_web_classification_default_20230809_120434_491077_output_data_flow_outputs/versions/1'\n",
    "\n",
    "match = OUTPUT_PORTAL_PATTERN.match(target)\n",
    "if match:\n",
    "    print(match.group('name'))\n",
    "    print(match.group('version'))\n",
    "print(match.groups())"
   ]
  },
  {
   "cell_type": "code",
   "execution_count": null,
   "metadata": {},
   "outputs": [],
   "source": [
    "from pathlib import Path\n",
    "a = Path(\".\").resolve().absolute()\n",
    "print(str(a))\n",
    "print(a.as_posix())"
   ]
  },
  {
   "cell_type": "markdown",
   "metadata": {},
   "source": [
    "## Test promptflow schema"
   ]
  },
  {
   "cell_type": "code",
   "execution_count": null,
   "metadata": {},
   "outputs": [],
   "source": [
    "import json\n",
    "from marshmallow_jsonschema import JSONSchema  \n",
    "from promptflow._sdk.schemas._flow_dag import FlowDagSchema\n",
    "\n",
    "json_schema = JSONSchema().dump(FlowDagSchema(context={\"base_path\": \".\"}))\n",
    "with open(\"./flow_dag_schema.json\", \"w\") as f:\n",
    "    json.dump(json_schema, f, indent=4)"
   ]
  },
  {
   "cell_type": "markdown",
   "metadata": {},
   "source": [
    "# Temprary test"
   ]
  },
  {
   "cell_type": "code",
   "execution_count": 11,
   "metadata": {},
   "outputs": [
    {
     "name": "stdout",
     "output_type": "stream",
     "text": [
      "False\n"
     ]
    }
   ],
   "source": [
    "a = Path(\"./chat_group123.ipynb\")\n",
    "print(a.is_file())"
   ]
  },
  {
   "cell_type": "code",
   "execution_count": 36,
   "metadata": {},
   "outputs": [],
   "source": [
    "yaml_file = \"./flows/web_classification/flow.dag.yaml\"\n",
    "\n",
    "with open(yaml_file, encoding=\"utf-8\") as f:\n",
    "    yaml1 = yaml.safe_load(f)\n",
    "\n",
    "with open(yaml_file, encoding=\"utf-8\") as f:\n",
    "    yaml2 = ryaml.load(f)"
   ]
  },
  {
   "cell_type": "code",
   "execution_count": 2,
   "metadata": {},
   "outputs": [
    {
     "name": "stdout",
     "output_type": "stream",
     "text": [
      "True\n",
      "0\n"
     ]
    }
   ],
   "source": [
    "from pathlib import Path\n",
    "a = r'C:\\Users\\hod\\.promptflow\\.runs\\91745026-c298-46f2-8949-0fa6810813ee\\flow_outputs\\output.jsonl'\n",
    "a = Path(a)\n",
    "print(a.is_file())\n",
    "print(a.stat().st_size)"
   ]
  },
  {
   "cell_type": "code",
   "execution_count": null,
   "metadata": {},
   "outputs": [],
   "source": []
  }
 ],
 "metadata": {
  "kernelspec": {
   "display_name": "git_sdk",
   "language": "python",
   "name": "python3"
  },
  "language_info": {
   "codemirror_mode": {
    "name": "ipython",
    "version": 3
   },
   "file_extension": ".py",
   "mimetype": "text/x-python",
   "name": "python",
   "nbconvert_exporter": "python",
   "pygments_lexer": "ipython3",
   "version": "3.8.18"
  },
  "orig_nbformat": 4,
  "vscode": {
   "interpreter": {
    "hash": "901590fd2121b297931cb9e45033033448ad2d0581b02ead13ed661d40dac950"
   }
  }
 },
 "nbformat": 4,
 "nbformat_minor": 2
}
