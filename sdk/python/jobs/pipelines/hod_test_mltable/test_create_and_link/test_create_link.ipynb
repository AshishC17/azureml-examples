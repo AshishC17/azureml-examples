{
 "cells": [
  {
   "cell_type": "markdown",
   "metadata": {},
   "source": [
    "Copyright (c) Microsoft Corporation. All rights reserved.\n",
    "\n",
    "Licensed under the MIT License."
   ]
  },
  {
   "cell_type": "markdown",
   "metadata": {},
   "source": [
    "# Build an ML Pipeline\n",
    "\n",
    "In this notebook, you learn how to create a machine learning training pipeline by using Azure Machine Learning components.\n",
    "\n",
    "1. Prepare and create components into the workspace.\n",
    "2. Use the component and pipeline SDK to create a pipeline the registered components."
   ]
  },
  {
   "cell_type": "markdown",
   "metadata": {},
   "source": [
    "## Prerequisites\n",
    "* Install azure-ai-ml sdk following the [instructions here](../../README.md).\n",
    "* Initialize credential & create compute clusters following [instructions here](../../configuration.ipynb);"
   ]
  },
  {
   "cell_type": "markdown",
   "metadata": {},
   "source": [
    "# 1. Connect to Azure Machine Learning Workspace\n",
    "\n",
    "The [workspace](https://docs.microsoft.com/en-us/azure/machine-learning/concept-workspace) is the top-level resource for Azure Machine Learning, providing a centralized place to work with all the artifacts you create when you use Azure Machine Learning. In this section we will connect to the workspace in which the job will be run.\n",
    "\n",
    "## 1.1 Import the required libraries"
   ]
  },
  {
   "cell_type": "code",
   "execution_count": 1,
   "metadata": {
    "tags": []
   },
   "outputs": [],
   "source": [
    "# Import required libraries\n",
    "from azure.identity import DefaultAzureCredential, InteractiveBrowserCredential\n",
    "from azure.ai.ml import load_component, Input, Output\n",
    "from azure.ai.ml.dsl import pipeline\n",
    "from azure.ai.ml import MLClient\n",
    "from azure.ai.ml.constants import AssetTypes, InputOutputModes, InputOutputModes\n",
    "\n",
    "import os\n",
    "\n",
    "# enable internal components in v2\n",
    "os.environ[\"AZURE_ML_INTERNAL_COMPONENTS_ENABLED\"] = \"True\""
   ]
  },
  {
   "cell_type": "markdown",
   "metadata": {},
   "source": [
    "## 1.2 Configure credential\n",
    "\n",
    "We are using `DefaultAzureCredential` to get access to workspace. \n",
    "`DefaultAzureCredential` should be capable of handling most Azure SDK authentication scenarios. \n",
    "\n",
    "Reference for more available credentials if it does not work for you: [configure credential example](../../configuration.ipynb), [azure-identity reference doc](https://docs.microsoft.com/en-us/python/api/azure-identity/azure.identity?view=azure-python)."
   ]
  },
  {
   "cell_type": "code",
   "execution_count": 2,
   "metadata": {},
   "outputs": [
    {
     "name": "stderr",
     "output_type": "stream",
     "text": [
      "DefaultAzureCredential failed to retrieve a token from the included credentials.\n",
      "Attempted credentials:\n",
      "\tEnvironmentCredential: EnvironmentCredential authentication unavailable. Environment variables are not fully configured.\n",
      "Visit https://aka.ms/azsdk/python/identity/environmentcredential/troubleshoot to troubleshoot.this issue.\n",
      "\tManagedIdentityCredential: ManagedIdentityCredential authentication unavailable, no response from the IMDS endpoint.\n",
      "\tAzureDeveloperCliCredential: Azure Developer CLI could not be found. Please visit https://aka.ms/azure-dev for installation instructions and then,once installed, authenticate to your Azure account using 'azd login'.\n",
      "\tSharedTokenCacheCredential: Azure Active Directory error '(invalid_grant) AADSTS700082: The refresh token has expired due to inactivity. The token was issued on 2022-11-21T03:07:07.6802296Z and was inactive for 90.00:00:00.\n",
      "Trace ID: 791d30c8-ace9-4f65-8058-cfeffcad0100\n",
      "Correlation ID: 6fa52ce7-d219-48b3-83d3-fc4de0f3d704\n",
      "Timestamp: 2023-02-24 02:53:22Z'\n",
      "Content: {\"error\":\"invalid_grant\",\"error_description\":\"AADSTS700082: The refresh token has expired due to inactivity. The token was issued on 2022-11-21T03:07:07.6802296Z and was inactive for 90.00:00:00.\\r\\nTrace ID: 791d30c8-ace9-4f65-8058-cfeffcad0100\\r\\nCorrelation ID: 6fa52ce7-d219-48b3-83d3-fc4de0f3d704\\r\\nTimestamp: 2023-02-24 02:53:22Z\",\"error_codes\":[700082],\"timestamp\":\"2023-02-24 02:53:22Z\",\"trace_id\":\"791d30c8-ace9-4f65-8058-cfeffcad0100\",\"correlation_id\":\"6fa52ce7-d219-48b3-83d3-fc4de0f3d704\",\"error_uri\":\"https://login.microsoftonline.com/error?code=700082\"}\n",
      "To mitigate this issue, please refer to the troubleshooting guidelines here at https://aka.ms/azsdk/python/identity/defaultazurecredential/troubleshoot.\n"
     ]
    }
   ],
   "source": [
    "try:\n",
    "    credential = DefaultAzureCredential()\n",
    "    # Check if given credential can get token successfully.\n",
    "    credential.get_token(\"https://management.azure.com/.default\")\n",
    "except Exception as ex:\n",
    "    # Fall back to InteractiveBrowserCredential in case DefaultAzureCredential not work\n",
    "    credential = InteractiveBrowserCredential()"
   ]
  },
  {
   "cell_type": "markdown",
   "metadata": {},
   "source": [
    "## 1.3 Get a handle to the workspace\n",
    "\n",
    "We use config file to connect to a workspace. The Azure ML workspace should be configured with computer cluster. [Check this notebook for configure a workspace](../../configuration.ipynb)"
   ]
  },
  {
   "cell_type": "code",
   "execution_count": 3,
   "metadata": {
    "tags": []
   },
   "outputs": [
    {
     "name": "stderr",
     "output_type": "stream",
     "text": [
      "Found the config file in: D:\\programs\\azureml-examples\\sdk\\.azureml\\config.json\n"
     ]
    },
    {
     "name": "stdout",
     "output_type": "stream",
     "text": [
      "enable_node_public_ip: true\n",
      "id: /subscriptions/96aede12-2f73-41cb-b983-6d11a904839b/resourceGroups/hod-eastus2/providers/Microsoft.MachineLearningServices/workspaces/sdk_vnext_cli/computes/cpu-cluster\n",
      "idle_time_before_scale_down: 120\n",
      "location: eastus2\n",
      "max_instances: 4\n",
      "min_instances: 0\n",
      "name: cpu-cluster\n",
      "provisioning_state: Succeeded\n",
      "size: STANDARD_DS2_V2\n",
      "ssh_public_access_enabled: true\n",
      "tier: dedicated\n",
      "type: amlcompute\n",
      "\n"
     ]
    }
   ],
   "source": [
    "# Get a handle to workspace\n",
    "ml_client = MLClient.from_config(credential=credential)\n",
    "\n",
    "# Retrieve an already attached Azure Machine Learning Compute.\n",
    "cluster_name = \"cpu-cluster\"\n",
    "print(ml_client.compute.get(cluster_name))"
   ]
  },
  {
   "cell_type": "code",
   "execution_count": 4,
   "metadata": {
    "tags": []
   },
   "outputs": [
    {
     "name": "stderr",
     "output_type": "stream",
     "text": [
      "Warning: the provided asset name 'myTestEnv' will not be used for anonymous registration\n",
      "Warning: the provided asset name 'myTestEnv' will not be used for anonymous registration\n"
     ]
    }
   ],
   "source": [
    "from azure.ai.ml import Input, load_component\n",
    "from azure.ai.ml.constants import AssetTypes, InputOutputModes\n",
    "from azure.ai.ml.dsl import pipeline\n",
    "from sdk.create_and_link import get_my_data, consume_data\n",
    "\n",
    "\n",
    "# my_component = ml_client.components.create_or_update(consume_data, version=\"5\")"
   ]
  },
  {
   "cell_type": "code",
   "execution_count": 8,
   "metadata": {},
   "outputs": [
    {
     "name": "stderr",
     "output_type": "stream",
     "text": [
      "Method validate: This is an experimental method, and may change at any time. Please see https://aka.ms/azuremlexperimental for more information.\n"
     ]
    },
    {
     "data": {
      "text/plain": [
       "{\n",
       "  \"result\": \"Succeeded\"\n",
       "}"
      ]
     },
     "execution_count": 8,
     "metadata": {},
     "output_type": "execute_result"
    }
   ],
   "source": [
    "@pipeline(name=\"test_direct_link\")\n",
    "def my_pipeline():\n",
    "    node_0 = get_my_data()\n",
    "    node_1 = consume_data(data_path=node_0.outputs.output)\n",
    "    node_1.inputs.data_path.mode = \"eval_mount\"\n",
    "\n",
    "# create a pipeline\n",
    "pipeline_job = my_pipeline()\n",
    "pipeline_job.settings.default_compute = \"cpu-cluster\"\n",
    "pipeline_job.settings.force_rerun = True\n",
    "# pipeline_job.settings.default_datastore = \"workspaceblobstore\"\n",
    "# pipeline_job.settings._dataset_access_mode = \"DatasetInDpv2\"\n",
    "\n",
    "# Validating the pipeline\n",
    "ml_client.jobs.validate(pipeline_job)"
   ]
  },
  {
   "cell_type": "code",
   "execution_count": 10,
   "metadata": {},
   "outputs": [
    {
     "data": {
      "text/html": [
       "<table style=\"width:100%\"><tr><th>Experiment</th><th>Name</th><th>Type</th><th>Status</th><th>Details Page</th></tr><tr><td>hod_test_mltable</td><td>keen_spinach_ytdf071mw6</td><td>pipeline</td><td>Preparing</td><td><a href=\"https://ml.azure.com/runs/keen_spinach_ytdf071mw6?wsid=/subscriptions/96aede12-2f73-41cb-b983-6d11a904839b/resourcegroups/hod-eastus2/workspaces/sdk_vnext_cli&amp;tid=72f988bf-86f1-41af-91ab-2d7cd011db47\" target=\"_blank\" rel=\"noopener\">Link to Azure Machine Learning studio</a></td></tr></table>"
      ],
      "text/plain": [
       "PipelineJob({'inputs': {}, 'outputs': {}, 'jobs': {}, 'component': PipelineComponent({'auto_increment_version': False, 'source': 'REMOTE.WORKSPACE.JOB', 'is_anonymous': True, 'name': 'azureml_anonymous', 'description': None, 'tags': {}, 'properties': {}, 'print_as_yaml': True, 'id': None, 'Resource__source_path': None, 'base_path': 'd:\\\\programs\\\\azureml-examples\\\\sdk\\\\python\\\\jobs\\\\pipelines\\\\hod_test_mltable\\\\test_create_and_link', 'creation_context': None, 'serialize': <msrest.serialization.Serializer object at 0x000002771878A2C0>, 'version': '1', 'latest_version': None, 'schema': None, 'type': 'pipeline', 'display_name': 'test_diff_blobs', 'is_deterministic': None, 'inputs': {}, 'outputs': {}, 'yaml_str': None, 'other_parameter': {}, 'jobs': {'node_0': Command({'parameters': {}, 'init': False, 'type': 'command', 'status': None, 'log_files': None, 'name': 'node_0', 'description': None, 'tags': {}, 'properties': {}, 'print_as_yaml': True, 'id': None, 'Resource__source_path': None, 'base_path': 'd:\\\\programs\\\\azureml-examples\\\\sdk\\\\python\\\\jobs\\\\pipelines\\\\hod_test_mltable\\\\test_create_and_link', 'creation_context': None, 'serialize': <msrest.serialization.Serializer object at 0x000002771878A080>, 'allowed_keys': {}, 'key_restriction': False, 'logger': <Logger attr_dict (WARNING)>, 'display_name': None, 'experiment_name': None, 'compute': None, 'services': None, 'comment': None, 'job_inputs': {}, 'job_outputs': {}, 'inputs': {}, 'outputs': {}, 'component': 'azureml_anonymous:c384fcff-5c9d-4b52-9d5b-9a138f6c6628', 'referenced_control_flow_node_instance_id': None, 'kwargs': {'services': None}, 'instance_id': 'c5953f17-5002-4e61-b2d1-4328d0f64fc8', 'source': 'REMOTE.WORKSPACE.COMPONENT', 'validate_required_input_not_provided': True, 'limits': None, 'identity': None, 'distribution': None, 'environment_variables': {}, 'environment': None, 'resources': None, 'swept': False}), 'node_1': Command({'parameters': {}, 'init': False, 'type': 'command', 'status': None, 'log_files': None, 'name': 'node_1', 'description': None, 'tags': {}, 'properties': {}, 'print_as_yaml': True, 'id': None, 'Resource__source_path': None, 'base_path': 'd:\\\\programs\\\\azureml-examples\\\\sdk\\\\python\\\\jobs\\\\pipelines\\\\hod_test_mltable\\\\test_create_and_link', 'creation_context': None, 'serialize': <msrest.serialization.Serializer object at 0x0000027718789D50>, 'allowed_keys': {}, 'key_restriction': False, 'logger': <Logger attr_dict (WARNING)>, 'display_name': None, 'experiment_name': None, 'compute': None, 'services': None, 'comment': None, 'job_inputs': {'data_path': {'type': 'uri_folder', 'path': '${{parent.jobs.node_0.outputs.output}}', 'mode': 'eval_mount'}}, 'job_outputs': {}, 'inputs': {'data_path': <azure.ai.ml.entities._job.pipeline._io.base.NodeInput object at 0x0000027718789D20>}, 'outputs': {}, 'component': 'azureml_anonymous:353817f1-2bcb-44d7-850b-270803558c27', 'referenced_control_flow_node_instance_id': None, 'kwargs': {'services': None}, 'instance_id': '1e5dc2b4-17d7-4395-8856-831929257c5e', 'source': 'REMOTE.WORKSPACE.COMPONENT', 'validate_required_input_not_provided': True, 'limits': None, 'identity': None, 'distribution': None, 'environment_variables': {}, 'environment': None, 'resources': None, 'swept': False})}, 'job_types': {'command': 2}, 'job_sources': {'REMOTE.WORKSPACE.COMPONENT': 2}, 'source_job_id': None}), 'type': 'pipeline', 'status': 'Preparing', 'log_files': None, 'name': 'keen_spinach_ytdf071mw6', 'description': None, 'tags': {}, 'properties': {'mlflow.source.git.repoURL': 'https://github.com/Azure/azureml-examples.git', 'mlflow.source.git.branch': 'hod/mltable', 'mlflow.source.git.commit': '306fca525c301484fce341cc1eb51bbc6c9bcd6c', 'azureml.git.dirty': 'True', 'azureml.DevPlatv2': 'true', 'azureml.runsource': 'azureml.PipelineRun', 'runSource': 'MFE', 'runType': 'HTTP', 'azureml.parameters': '{}', 'azureml.continue_on_step_failure': 'False', 'azureml.continue_on_failed_optional_input': 'True', 'azureml.enforceRerun': 'True', 'azureml.defaultComputeName': 'cpu-cluster', 'azureml.defaultDataStoreName': 'workspaceblobstore', 'azureml.pipelineComponent': 'pipelinerun'}, 'print_as_yaml': True, 'id': '/subscriptions/96aede12-2f73-41cb-b983-6d11a904839b/resourceGroups/hod-eastus2/providers/Microsoft.MachineLearningServices/workspaces/sdk_vnext_cli/jobs/keen_spinach_ytdf071mw6', 'Resource__source_path': None, 'base_path': 'd:\\\\programs\\\\azureml-examples\\\\sdk\\\\python\\\\jobs\\\\pipelines\\\\hod_test_mltable\\\\test_create_and_link', 'creation_context': <azure.ai.ml.entities._system_data.SystemData object at 0x0000027718789E40>, 'serialize': <msrest.serialization.Serializer object at 0x0000027718789E70>, 'display_name': 'test_diff_blobs', 'experiment_name': 'hod_test_mltable', 'compute': None, 'services': {'Tracking': <azure.ai.ml.entities._job.job_service.JobService object at 0x000002771878A590>, 'Studio': <azure.ai.ml.entities._job.job_service.JobService object at 0x0000027718789EA0>}, 'settings': {}, 'identity': None, 'default_code': None, 'default_environment': None})"
      ]
     },
     "execution_count": 10,
     "metadata": {},
     "output_type": "execute_result"
    }
   ],
   "source": [
    "# Specify the workspace for workspace independent component when submitting the pipeline.\n",
    "created_pipeline_job = ml_client.jobs.create_or_update(pipeline_job, experiment_name=\"hod_test_mltable\")\n",
    "\n",
    "# show detail information of run\n",
    "created_pipeline_job"
   ]
  },
  {
   "cell_type": "code",
   "execution_count": null,
   "metadata": {},
   "outputs": [],
   "source": []
  }
 ],
 "metadata": {
  "kernelspec": {
   "display_name": "git_sdk",
   "language": "python",
   "name": "python3"
  },
  "language_info": {
   "codemirror_mode": {
    "name": "ipython",
    "version": 3
   },
   "file_extension": ".py",
   "mimetype": "text/x-python",
   "name": "python",
   "nbconvert_exporter": "python",
   "pygments_lexer": "ipython3",
   "version": "3.10.8"
  },
  "required_sdk_version": "0.9.1",
  "vscode": {
   "interpreter": {
    "hash": "901590fd2121b297931cb9e45033033448ad2d0581b02ead13ed661d40dac950"
   }
  }
 },
 "nbformat": 4,
 "nbformat_minor": 2
}
