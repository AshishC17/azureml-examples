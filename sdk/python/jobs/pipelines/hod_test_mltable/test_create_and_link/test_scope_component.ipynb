{
 "cells": [
  {
   "cell_type": "markdown",
   "metadata": {},
   "source": [
    "Copyright (c) Microsoft Corporation. All rights reserved.\n",
    "\n",
    "Licensed under the MIT License."
   ]
  },
  {
   "cell_type": "markdown",
   "metadata": {},
   "source": [
    "# Build an ML Pipeline\n",
    "\n",
    "In this notebook, you learn how to create a machine learning training pipeline by using Azure Machine Learning components.\n",
    "\n",
    "1. Prepare and create components into the workspace.\n",
    "2. Use the component and pipeline SDK to create a pipeline the registered components."
   ]
  },
  {
   "cell_type": "markdown",
   "metadata": {},
   "source": [
    "## Prerequisites\n",
    "* Install azure-ai-ml sdk following the [instructions here](../../README.md).\n",
    "* Initialize credential & create compute clusters following [instructions here](../../configuration.ipynb);"
   ]
  },
  {
   "cell_type": "markdown",
   "metadata": {},
   "source": [
    "# 1. Connect to Azure Machine Learning Workspace\n",
    "\n",
    "The [workspace](https://docs.microsoft.com/en-us/azure/machine-learning/concept-workspace) is the top-level resource for Azure Machine Learning, providing a centralized place to work with all the artifacts you create when you use Azure Machine Learning. In this section we will connect to the workspace in which the job will be run.\n",
    "\n",
    "## 1.1 Import the required libraries"
   ]
  },
  {
   "cell_type": "code",
   "execution_count": 1,
   "metadata": {
    "tags": []
   },
   "outputs": [],
   "source": [
    "# Import required libraries\n",
    "from azure.identity import DefaultAzureCredential, InteractiveBrowserCredential\n",
    "from azure.ai.ml import load_component, Input, Output\n",
    "from azure.ai.ml.dsl import pipeline\n",
    "from azure.ai.ml import MLClient\n",
    "from azure.ai.ml.constants import AssetTypes, InputOutputModes, InputOutputModes\n",
    "\n",
    "import os\n",
    "\n",
    "# enable internal components in v2\n",
    "os.environ[\"AZURE_ML_INTERNAL_COMPONENTS_ENABLED\"] = \"True\""
   ]
  },
  {
   "cell_type": "markdown",
   "metadata": {},
   "source": [
    "## 1.2 Configure credential\n",
    "\n",
    "We are using `DefaultAzureCredential` to get access to workspace. \n",
    "`DefaultAzureCredential` should be capable of handling most Azure SDK authentication scenarios. \n",
    "\n",
    "Reference for more available credentials if it does not work for you: [configure credential example](../../configuration.ipynb), [azure-identity reference doc](https://docs.microsoft.com/en-us/python/api/azure-identity/azure.identity?view=azure-python)."
   ]
  },
  {
   "cell_type": "code",
   "execution_count": 2,
   "metadata": {},
   "outputs": [
    {
     "name": "stderr",
     "output_type": "stream",
     "text": [
      "DefaultAzureCredential failed to retrieve a token from the included credentials.\n",
      "Attempted credentials:\n",
      "\tEnvironmentCredential: EnvironmentCredential authentication unavailable. Environment variables are not fully configured.\n",
      "Visit https://aka.ms/azsdk/python/identity/environmentcredential/troubleshoot to troubleshoot.this issue.\n",
      "\tManagedIdentityCredential: ManagedIdentityCredential authentication unavailable, no response from the IMDS endpoint.\n",
      "\tAzureDeveloperCliCredential: Azure Developer CLI could not be found. Please visit https://aka.ms/azure-dev for installation instructions and then,once installed, authenticate to your Azure account using 'azd login'.\n",
      "\tSharedTokenCacheCredential: Azure Active Directory error '(invalid_grant) AADSTS700082: The refresh token has expired due to inactivity. The token was issued on 2022-11-21T03:07:07.6802296Z and was inactive for 90.00:00:00.\n",
      "Trace ID: c413eb9e-243f-4829-8692-df95f9590200\n",
      "Correlation ID: e3cdbd83-1d24-485c-a5bf-f18fdcfb1b15\n",
      "Timestamp: 2023-03-01 09:31:02Z'\n",
      "Content: {\"error\":\"invalid_grant\",\"error_description\":\"AADSTS700082: The refresh token has expired due to inactivity. The token was issued on 2022-11-21T03:07:07.6802296Z and was inactive for 90.00:00:00.\\r\\nTrace ID: c413eb9e-243f-4829-8692-df95f9590200\\r\\nCorrelation ID: e3cdbd83-1d24-485c-a5bf-f18fdcfb1b15\\r\\nTimestamp: 2023-03-01 09:31:02Z\",\"error_codes\":[700082],\"timestamp\":\"2023-03-01 09:31:02Z\",\"trace_id\":\"c413eb9e-243f-4829-8692-df95f9590200\",\"correlation_id\":\"e3cdbd83-1d24-485c-a5bf-f18fdcfb1b15\",\"error_uri\":\"https://login.microsoftonline.com/error?code=700082\"}\n",
      "To mitigate this issue, please refer to the troubleshooting guidelines here at https://aka.ms/azsdk/python/identity/defaultazurecredential/troubleshoot.\n"
     ]
    }
   ],
   "source": [
    "try:\n",
    "    credential = DefaultAzureCredential()\n",
    "    # Check if given credential can get token successfully.\n",
    "    credential.get_token(\"https://management.azure.com/.default\")\n",
    "except Exception as ex:\n",
    "    # Fall back to InteractiveBrowserCredential in case DefaultAzureCredential not work\n",
    "    credential = InteractiveBrowserCredential()"
   ]
  },
  {
   "cell_type": "markdown",
   "metadata": {},
   "source": [
    "## 1.3 Get a handle to the workspace\n",
    "\n",
    "We use config file to connect to a workspace. The Azure ML workspace should be configured with computer cluster. [Check this notebook for configure a workspace](../../configuration.ipynb)"
   ]
  },
  {
   "cell_type": "code",
   "execution_count": null,
   "metadata": {},
   "outputs": [],
   "source": [
    "# config\n",
    "# {\"subscription_id\": \"74eccef0-4b8d-4f83-b5f9-fa100d155b22\", \"resource_group\": \"AmlComponentNotebook\", \"workspace_name\": \"SDK-Notebook-Stable-EUS-20230227\"}"
   ]
  },
  {
   "cell_type": "code",
   "execution_count": 3,
   "metadata": {
    "tags": []
   },
   "outputs": [
    {
     "name": "stderr",
     "output_type": "stream",
     "text": [
      "Found the config file in: D:\\programs\\azureml-examples\\sdk\\.azureml\\config.json\n"
     ]
    },
    {
     "name": "stdout",
     "output_type": "stream",
     "text": [
      "enable_node_public_ip: true\n",
      "id: /subscriptions/74eccef0-4b8d-4f83-b5f9-fa100d155b22/resourceGroups/AmlComponentNotebook/providers/Microsoft.MachineLearningServices/workspaces/SDK-Notebook-Stable-EUS-20230227/computes/cpu-cluster\n",
      "idle_time_before_scale_down: 2700\n",
      "location: eastus\n",
      "max_instances: 30\n",
      "min_instances: 0\n",
      "name: cpu-cluster\n",
      "provisioning_state: Succeeded\n",
      "size: STANDARD_D2_V2\n",
      "ssh_public_access_enabled: true\n",
      "tier: dedicated\n",
      "type: amlcompute\n",
      "\n"
     ]
    }
   ],
   "source": [
    "# Get a handle to workspace\n",
    "ml_client = MLClient.from_config(credential=credential)\n",
    "\n",
    "# Retrieve an already attached Azure Machine Learning Compute.\n",
    "cluster_name = \"cpu-cluster\"\n",
    "print(ml_client.compute.get(cluster_name))"
   ]
  },
  {
   "cell_type": "code",
   "execution_count": 6,
   "metadata": {},
   "outputs": [
    {
     "data": {
      "text/plain": [
       "AzureDataLakeGen1Datastore({'type': <DatastoreType.AZURE_DATA_LAKE_GEN1: 'AzureDataLakeGen1'>, 'name': 'searchparner_adls', 'description': None, 'tags': {}, 'properties': {}, 'print_as_yaml': True, 'id': '/subscriptions/74eccef0-4b8d-4f83-b5f9-fa100d155b22/resourceGroups/AmlComponentNotebook/providers/Microsoft.MachineLearningServices/workspaces/SDK-Notebook-Stable-EUS-20230227/datastores/searchparner_adls', 'Resource__source_path': None, 'base_path': 'd:\\\\programs\\\\azureml-examples\\\\sdk\\\\python\\\\jobs\\\\pipelines\\\\hod_test_mltable\\\\test_create_and_link', 'creation_context': None, 'serialize': <msrest.serialization.Serializer object at 0x00000232623AB670>, 'credentials': {'authority_url': 'https://login.microsoftonline.com', 'resource_url': 'https://datalake.azure.net/', 'tenant_id': '72f988bf-86f1-41af-91ab-2d7cd011db47', 'client_id': '219ad7b7-1926-4eeb-8ca7-e323d99e42b6', 'type': 'service_principal'}, 'store_name': 'searchdm-partner-c09'})"
      ]
     },
     "execution_count": 6,
     "metadata": {},
     "output_type": "execute_result"
    }
   ],
   "source": [
    "import os\n",
    "\n",
    "# enable internal components in v2\n",
    "os.environ[\"AZURE_ML_INTERNAL_COMPONENTS_ENABLED\"] = \"True\"\n",
    "\n",
    "adls_account_name = os.environ.get(\"ADLS_ACCOUNT_NAME\", \"searchdm-partner-c09\")\n",
    "adl_data_store_name = os.environ.get(\n",
    "    \"ADL_DATA_STORE_NAME\", \"searchparner_adls\"\n",
    ")\n",
    "\n",
    "ml_client.datastores.get(name=adl_data_store_name)"
   ]
  },
  {
   "cell_type": "code",
   "execution_count": 7,
   "metadata": {
    "tags": []
   },
   "outputs": [],
   "source": [
    "from azure.ai.ml import Input, load_component\n",
    "from azure.ai.ml.constants import AssetTypes, InputOutputModes\n",
    "from azure.ai.ml.dsl import pipeline\n",
    "from sdk.create_and_link import get_my_data\n",
    "\n",
    "scope_convert2ss_func = load_component(\n",
    "    f'./convert2ss/component_spec.yaml'\n",
    ")\n"
   ]
  },
  {
   "cell_type": "code",
   "execution_count": 10,
   "metadata": {},
   "outputs": [
    {
     "data": {
      "text/plain": [
       "{\n",
       "  \"result\": \"Succeeded\"\n",
       "}"
      ]
     },
     "execution_count": 10,
     "metadata": {},
     "output_type": "execute_result"
    }
   ],
   "source": [
    "@pipeline(name=\"test_scope_component_direct\")\n",
    "def my_pipeline():\n",
    "    node_0 = get_my_data()\n",
    "    convert2ss = scope_convert2ss_func(\n",
    "        TextData=node_0.outputs.output, ExtractionClause='Label:string, Id:string'\n",
    "    )\n",
    "    convert2ss.inputs.TextData.mode = \"direct\"\n",
    "    convert2ss.outputs[\"SSPath\"].path = (\n",
    "        \"azureml://datastores/\" + adl_data_store_name + \"/paths/sdktests/outputdata.ss\"\n",
    "    )\n",
    "    convert2ss.adla_account_name = adls_account_name\n",
    "    convert2ss.scope_param = \"-tokens 50\"\n",
    "\n",
    "# create a pipeline\n",
    "pipeline_job = my_pipeline()\n",
    "pipeline_job.settings.default_compute = \"cpu-cluster\"\n",
    "pipeline_job.settings.force_rerun = True\n",
    "# pipeline_job.settings.default_datastore = \"workspaceblobstore\"\n",
    "# pipeline_job.settings._dataset_access_mode = \"DatasetInDpv2\"\n",
    "\n",
    "# Validating the pipeline\n",
    "ml_client.jobs.validate(pipeline_job)"
   ]
  },
  {
   "cell_type": "code",
   "execution_count": 11,
   "metadata": {},
   "outputs": [
    {
     "data": {
      "text/html": [
       "<table style=\"width:100%\"><tr><th>Experiment</th><th>Name</th><th>Type</th><th>Status</th><th>Details Page</th></tr><tr><td>hod_test_mltable</td><td>elated_celery_50bk7f7jnw</td><td>pipeline</td><td>Preparing</td><td><a href=\"https://ml.azure.com/runs/elated_celery_50bk7f7jnw?wsid=/subscriptions/74eccef0-4b8d-4f83-b5f9-fa100d155b22/resourcegroups/AmlComponentNotebook/workspaces/SDK-Notebook-Stable-EUS-20230227&amp;tid=72f988bf-86f1-41af-91ab-2d7cd011db47\" target=\"_blank\" rel=\"noopener\">Link to Azure Machine Learning studio</a></td></tr></table>"
      ],
      "text/plain": [
       "PipelineJob({'inputs': {}, 'outputs': {}, 'jobs': {}, 'component': PipelineComponent({'auto_increment_version': False, 'source': 'REMOTE.WORKSPACE.JOB', 'is_anonymous': True, 'name': 'azureml_anonymous', 'description': None, 'tags': {}, 'properties': {}, 'print_as_yaml': True, 'id': None, 'Resource__source_path': None, 'base_path': 'd:\\\\programs\\\\azureml-examples\\\\sdk\\\\python\\\\jobs\\\\pipelines\\\\hod_test_mltable\\\\test_create_and_link', 'creation_context': None, 'serialize': <msrest.serialization.Serializer object at 0x000002325FC69330>, 'version': '1', 'latest_version': None, 'schema': None, 'type': 'pipeline', 'display_name': 'test_scope_component_direct', 'is_deterministic': None, 'inputs': {}, 'outputs': {}, 'yaml_str': None, 'other_parameter': {}, 'jobs': {'node_0': Command({'parameters': {}, 'init': False, 'type': 'command', 'status': None, 'log_files': None, 'name': 'node_0', 'description': None, 'tags': {}, 'properties': {}, 'print_as_yaml': True, 'id': None, 'Resource__source_path': None, 'base_path': 'd:\\\\programs\\\\azureml-examples\\\\sdk\\\\python\\\\jobs\\\\pipelines\\\\hod_test_mltable\\\\test_create_and_link', 'creation_context': None, 'serialize': <msrest.serialization.Serializer object at 0x000002325CE4F9D0>, 'allowed_keys': {}, 'key_restriction': False, 'logger': <Logger attr_dict (WARNING)>, 'display_name': None, 'experiment_name': None, 'compute': None, 'services': None, 'comment': None, 'job_inputs': {}, 'job_outputs': {}, 'inputs': {}, 'outputs': {}, 'component': 'azureml_anonymous:2e0906dd-6957-4c36-9f9c-2498de54efaf', 'referenced_control_flow_node_instance_id': None, 'kwargs': {'services': None}, 'instance_id': '89adcfdc-2890-47ea-85c6-b68e4b63fc82', 'source': 'REMOTE.WORKSPACE.COMPONENT', 'validate_required_input_not_provided': True, 'limits': None, 'identity': None, 'distribution': None, 'environment_variables': {}, 'environment': None, 'resources': None, 'swept': False}), 'convert2ss': Scope({'init': False, 'type': 'ScopeComponent', 'status': None, 'log_files': None, 'name': None, 'description': None, 'tags': {}, 'properties': {}, 'print_as_yaml': True, 'id': None, 'Resource__source_path': None, 'base_path': 'd:\\\\programs\\\\azureml-examples\\\\sdk\\\\python\\\\jobs\\\\pipelines\\\\hod_test_mltable\\\\test_create_and_link', 'creation_context': None, 'serialize': <msrest.serialization.Serializer object at 0x0000023265CD5570>, 'allowed_keys': {}, 'key_restriction': False, 'logger': <Logger attr_dict (WARNING)>, 'display_name': None, 'experiment_name': None, 'compute': None, 'services': None, 'comment': None, 'job_inputs': {'ExtractionClause': 'Label:string, Id:string', 'TextData': {'type': 'uri_folder', 'path': '${{parent.jobs.node_0.outputs.output}}', 'mode': 'direct'}}, 'job_outputs': {'SSPath': {'type': 'uri_folder', 'path': 'azureml://datastores/searchparner_adls/paths/sdktests/outputdata.ss'}}, 'inputs': {'ExtractionClause': <azure.ai.ml.entities._job.pipeline._io.base.NodeInput object at 0x000002325FC681C0>, 'TextData': <azure.ai.ml.entities._job.pipeline._io.base.NodeInput object at 0x000002325FC691B0>}, 'outputs': {'SSPath': <azure.ai.ml.entities._job.pipeline._io.base.NodeOutput object at 0x000002325FC695D0>}, 'component': 'azureml_anonymous:a67dc6d4-e618-46ba-b118-14e490724ee7', 'referenced_control_flow_node_instance_id': None, 'kwargs': {'scope_param': '-tokens 50', 'adla_account_name': 'searchdm-partner-c09'}, 'instance_id': '43d1f904-5cce-4f14-9e0c-e41172accf42', 'source': 'REMOTE.WORKSPACE.COMPONENT', 'validate_required_input_not_provided': True, 'adla_account_name': 'searchdm-partner-c09', 'scope_param': '-tokens 50', 'custom_job_name_suffix': None, 'priority': None})}, 'job_types': {'command': 1, 'ScopeComponent': 1}, 'job_sources': {'REMOTE.WORKSPACE.COMPONENT': 2}, 'source_job_id': None}), 'type': 'pipeline', 'status': 'Preparing', 'log_files': None, 'name': 'elated_celery_50bk7f7jnw', 'description': None, 'tags': {}, 'properties': {'mlflow.source.git.repoURL': 'https://github.com/Azure/azureml-examples.git', 'mlflow.source.git.branch': 'hod/mltable', 'mlflow.source.git.commit': '80ba6bb900a5824f916b6db953dd2a59bc431021', 'azureml.git.dirty': 'True', 'azureml.DevPlatv2': 'true', 'azureml.runsource': 'azureml.PipelineRun', 'runSource': 'MFE', 'runType': 'HTTP', 'azureml.parameters': '{}', 'azureml.continue_on_step_failure': 'False', 'azureml.continue_on_failed_optional_input': 'True', 'azureml.enforceRerun': 'True', 'azureml.defaultComputeName': 'cpu-cluster', 'azureml.defaultDataStoreName': 'workspaceblobstore', 'azureml.pipelineComponent': 'pipelinerun'}, 'print_as_yaml': True, 'id': '/subscriptions/74eccef0-4b8d-4f83-b5f9-fa100d155b22/resourceGroups/AmlComponentNotebook/providers/Microsoft.MachineLearningServices/workspaces/SDK-Notebook-Stable-EUS-20230227/jobs/elated_celery_50bk7f7jnw', 'Resource__source_path': None, 'base_path': 'd:\\\\programs\\\\azureml-examples\\\\sdk\\\\python\\\\jobs\\\\pipelines\\\\hod_test_mltable\\\\test_create_and_link', 'creation_context': <azure.ai.ml.entities._system_data.SystemData object at 0x0000023265400E20>, 'serialize': <msrest.serialization.Serializer object at 0x0000023265400130>, 'display_name': 'test_scope_component_direct', 'experiment_name': 'hod_test_mltable', 'compute': None, 'services': {'Tracking': <azure.ai.ml.entities._job.job_service.JobService object at 0x0000023265400BB0>, 'Studio': <azure.ai.ml.entities._job.job_service.JobService object at 0x0000023265400160>}, 'settings': {}, 'identity': None, 'default_code': None, 'default_environment': None})"
      ]
     },
     "execution_count": 11,
     "metadata": {},
     "output_type": "execute_result"
    }
   ],
   "source": [
    "# Specify the workspace for workspace independent component when submitting the pipeline.\n",
    "created_pipeline_job = ml_client.jobs.create_or_update(pipeline_job, experiment_name=\"hod_test_mltable\")\n",
    "\n",
    "# show detail information of run\n",
    "created_pipeline_job"
   ]
  },
  {
   "cell_type": "code",
   "execution_count": null,
   "metadata": {},
   "outputs": [],
   "source": []
  }
 ],
 "metadata": {
  "kernelspec": {
   "display_name": "git_sdk",
   "language": "python",
   "name": "python3"
  },
  "language_info": {
   "codemirror_mode": {
    "name": "ipython",
    "version": 3
   },
   "file_extension": ".py",
   "mimetype": "text/x-python",
   "name": "python",
   "nbconvert_exporter": "python",
   "pygments_lexer": "ipython3",
   "version": "3.10.8"
  },
  "required_sdk_version": "0.9.1",
  "vscode": {
   "interpreter": {
    "hash": "901590fd2121b297931cb9e45033033448ad2d0581b02ead13ed661d40dac950"
   }
  }
 },
 "nbformat": 4,
 "nbformat_minor": 2
}
